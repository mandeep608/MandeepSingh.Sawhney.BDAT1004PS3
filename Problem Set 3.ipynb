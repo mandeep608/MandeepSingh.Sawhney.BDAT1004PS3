{
 "cells": [
  {
   "cell_type": "markdown",
   "id": "c6bd1328",
   "metadata": {},
   "source": [
    "# PROBLEM SET 3\n",
    "### Name - Mandeep Singh Sawhney\n",
    "### Student id - 200557021"
   ]
  },
  {
   "cell_type": "markdown",
   "id": "33cd5d82",
   "metadata": {},
   "source": [
    "## Question1"
   ]
  },
  {
   "cell_type": "raw",
   "id": "941b8c0e",
   "metadata": {},
   "source": [
    "Occupations\n",
    "Step 1. Import the necessary libraries\n",
    "Step 2. Import the dataset from \"https://raw.githubusercontent.com/justmarkham/DAT8/master/data/u.user\".\n",
    "Step 3. Assign it to a variable called users\n",
    "Step 4. Discover what is the mean age per occupation\n",
    "Step 5. Discover the Male ratio per occupation and sort it from the most to the least\n",
    "Step 6. For each occupation, calculate the minimum and maximum ages\n",
    "Step 7. For each combination of occupation and sex, calculate the mean age\n",
    "Step 8. For each occupation present the percentage of women and men"
   ]
  },
  {
   "cell_type": "markdown",
   "id": "92d6898e",
   "metadata": {},
   "source": [
    "## Step 1. Importing libraries"
   ]
  },
  {
   "cell_type": "code",
   "execution_count": 1,
   "id": "eadc909f",
   "metadata": {},
   "outputs": [],
   "source": [
    "#step 1\n",
    "import pandas as pd\n",
    "import io\n",
    "import requests"
   ]
  },
  {
   "cell_type": "markdown",
   "id": "7415243b",
   "metadata": {},
   "source": [
    "## Step 2 & 3. Import the dataset from the address.Step 3. Assign it to a variable called users"
   ]
  },
  {
   "cell_type": "code",
   "execution_count": 2,
   "id": "d07e5114",
   "metadata": {},
   "outputs": [],
   "source": [
    "#step 2 and 3\n",
    "url = \"https://raw.githubusercontent.com/justmarkham/DAT8/master/data/u.user\"\n",
    "download = requests.get(url).content\n",
    "users = pd.read_csv(io.StringIO(download.decode('utf-8')), sep='|')"
   ]
  },
  {
   "cell_type": "markdown",
   "id": "bc92ecc6",
   "metadata": {},
   "source": [
    "## Step 4 - Discover what is the mean age per occupation "
   ]
  },
  {
   "cell_type": "code",
   "execution_count": 3,
   "id": "90a9da5c",
   "metadata": {},
   "outputs": [
    {
     "name": "stdout",
     "output_type": "stream",
     "text": [
      "       occupation   mean_age\n",
      "0   administrator  38.746835\n",
      "1          artist  31.392857\n",
      "2          doctor  43.571429\n",
      "3        educator  42.010526\n",
      "4        engineer  36.388060\n",
      "5   entertainment  29.222222\n",
      "6       executive  38.718750\n",
      "7      healthcare  41.562500\n",
      "8       homemaker  32.571429\n",
      "9          lawyer  36.750000\n",
      "10      librarian  40.000000\n",
      "11      marketing  37.615385\n",
      "12           none  26.555556\n",
      "13          other  34.523810\n",
      "14     programmer  33.121212\n",
      "15        retired  63.071429\n",
      "16       salesman  35.666667\n",
      "17      scientist  35.548387\n",
      "18        student  22.081633\n",
      "19     technician  33.148148\n",
      "20         writer  36.311111\n"
     ]
    }
   ],
   "source": [
    "#step 4\n",
    "mean_age_per_occupation = users.groupby('occupation')['age'].mean().reset_index()\n",
    "\n",
    "\n",
    "mean_age_per_occupation.columns = ['occupation', 'mean_age']\n",
    "\n",
    "print(mean_age_per_occupation)"
   ]
  },
  {
   "cell_type": "markdown",
   "id": "ca8d0fea",
   "metadata": {},
   "source": [
    "## Step 5. Discover the Male ratio per occupation and sort it from the most to the least\n",
    " "
   ]
  },
  {
   "cell_type": "code",
   "execution_count": 4,
   "id": "a34243fa",
   "metadata": {},
   "outputs": [
    {
     "name": "stdout",
     "output_type": "stream",
     "text": [
      "gender                F         M   M_ratio\n",
      "occupation                                 \n",
      "engineer       0.029851  0.970149  0.970149\n",
      "technician     0.037037  0.962963  0.962963\n",
      "retired        0.071429  0.928571  0.928571\n",
      "programmer     0.090909  0.909091  0.909091\n",
      "executive      0.093750  0.906250  0.906250\n",
      "scientist      0.096774  0.903226  0.903226\n",
      "entertainment  0.111111  0.888889  0.888889\n",
      "lawyer         0.166667  0.833333  0.833333\n",
      "salesman       0.250000  0.750000  0.750000\n",
      "educator       0.273684  0.726316  0.726316\n",
      "student        0.306122  0.693878  0.693878\n",
      "other          0.342857  0.657143  0.657143\n",
      "marketing      0.384615  0.615385  0.615385\n",
      "writer         0.422222  0.577778  0.577778\n",
      "none           0.444444  0.555556  0.555556\n",
      "administrator  0.455696  0.544304  0.544304\n",
      "artist         0.464286  0.535714  0.535714\n",
      "librarian      0.568627  0.431373  0.431373\n",
      "healthcare     0.687500  0.312500  0.312500\n",
      "homemaker      0.857143  0.142857  0.142857\n",
      "doctor              NaN  1.000000       NaN\n"
     ]
    }
   ],
   "source": [
    "#step5\n",
    "occupations = users.groupby('occupation')['gender'].value_counts(normalize=True).unstack()\n",
    "\n",
    "# Taking the ratio of males\n",
    "occupations['M_ratio'] = occupations['M'] / (occupations['M'] + occupations['F'])\n",
    "\n",
    "# Sorting it by male ratio in descending order\n",
    "occupations = occupations.sort_values('M_ratio', ascending=False)\n",
    "\n",
    "print(occupations)"
   ]
  },
  {
   "cell_type": "markdown",
   "id": "ea59e96a",
   "metadata": {},
   "source": [
    "## Step 6. For each occupation, calculate the minimum and maximum ages\n"
   ]
  },
  {
   "cell_type": "code",
   "execution_count": 5,
   "id": "999b4c10",
   "metadata": {},
   "outputs": [
    {
     "name": "stdout",
     "output_type": "stream",
     "text": [
      "               min  max\n",
      "occupation             \n",
      "administrator   21   70\n",
      "artist          19   48\n",
      "doctor          28   64\n",
      "educator        23   63\n",
      "engineer        22   70\n",
      "entertainment   15   50\n",
      "executive       22   69\n",
      "healthcare      22   62\n",
      "homemaker       20   50\n",
      "lawyer          21   53\n",
      "librarian       23   69\n",
      "marketing       24   55\n",
      "none            11   55\n",
      "other           13   64\n",
      "programmer      20   63\n",
      "retired         51   73\n",
      "salesman        18   66\n",
      "scientist       23   55\n",
      "student          7   42\n",
      "technician      21   55\n",
      "writer          18   60\n"
     ]
    }
   ],
   "source": [
    "#step 6\n",
    "# Grouping it by occupation\n",
    "grouped = users.groupby('occupation')\n",
    "\n",
    "# Applying min and max functions on age column\n",
    "result = grouped['age'].agg(['min', 'max'])\n",
    "\n",
    "# Print results\n",
    "print(result)"
   ]
  },
  {
   "cell_type": "markdown",
   "id": "0d092f4d",
   "metadata": {},
   "source": [
    "## Step 7. For each combination of occupation and sex, calculate the mean age\n"
   ]
  },
  {
   "cell_type": "code",
   "execution_count": 6,
   "id": "0918055f",
   "metadata": {},
   "outputs": [
    {
     "name": "stdout",
     "output_type": "stream",
     "text": [
      "occupation     gender\n",
      "administrator  F         40.638889\n",
      "               M         37.162791\n",
      "artist         F         30.307692\n",
      "               M         32.333333\n",
      "doctor         M         43.571429\n",
      "educator       F         39.115385\n",
      "               M         43.101449\n",
      "engineer       F         29.500000\n",
      "               M         36.600000\n",
      "entertainment  F         31.000000\n",
      "               M         29.000000\n",
      "executive      F         44.000000\n",
      "               M         38.172414\n",
      "healthcare     F         39.818182\n",
      "               M         45.400000\n",
      "homemaker      F         34.166667\n",
      "               M         23.000000\n",
      "lawyer         F         39.500000\n",
      "               M         36.200000\n",
      "librarian      F         40.000000\n",
      "               M         40.000000\n",
      "marketing      F         37.200000\n",
      "               M         37.875000\n",
      "none           F         36.500000\n",
      "               M         18.600000\n",
      "other          F         35.472222\n",
      "               M         34.028986\n",
      "programmer     F         32.166667\n",
      "               M         33.216667\n",
      "retired        F         70.000000\n",
      "               M         62.538462\n",
      "salesman       F         27.000000\n",
      "               M         38.555556\n",
      "scientist      F         28.333333\n",
      "               M         36.321429\n",
      "student        F         20.750000\n",
      "               M         22.669118\n",
      "technician     F         38.000000\n",
      "               M         32.961538\n",
      "writer         F         37.631579\n",
      "               M         35.346154\n",
      "Name: age, dtype: float64\n"
     ]
    }
   ],
   "source": [
    "#step 7\n",
    "grouped = users.groupby(['occupation', 'gender'])\n",
    "\n",
    "# Calculate the mean age\n",
    "mean_ages = grouped['age'].mean()\n",
    "\n",
    "# Print results \n",
    "print(mean_ages)"
   ]
  },
  {
   "cell_type": "markdown",
   "id": "53040f4f",
   "metadata": {},
   "source": [
    "## Step 8. For each occupation present the percentage of women and men\n"
   ]
  },
  {
   "cell_type": "code",
   "execution_count": 7,
   "id": "e37d1a13",
   "metadata": {},
   "outputs": [
    {
     "name": "stdout",
     "output_type": "stream",
     "text": [
      "gender         Female    Male\n",
      "occupation                   \n",
      "administrator  45.57%  98.95%\n",
      "artist         46.43%   97.0%\n",
      "doctor           0.0%  100.0%\n",
      "educator       27.37%   99.6%\n",
      "engineer        2.99%  99.95%\n",
      "entertainment  11.11%  99.31%\n",
      "executive       9.38%  99.68%\n",
      "healthcare     68.75%  87.91%\n",
      "homemaker      85.71%  53.85%\n",
      "lawyer         16.67%  98.36%\n",
      "librarian      56.86%  97.48%\n",
      "marketing      38.46%  97.65%\n",
      "none           44.44%  91.84%\n",
      "other          34.29%  99.51%\n",
      "programmer      9.09%  99.85%\n",
      "retired         7.14%  99.45%\n",
      "salesman        25.0%   97.3%\n",
      "scientist       9.68%  99.66%\n",
      "student        30.61%  99.78%\n",
      "technician       3.7%  99.86%\n",
      "writer         42.22%   98.4%\n"
     ]
    }
   ],
   "source": [
    "#step 8\n",
    "\n",
    "# Create column for gender (M/F)\n",
    "users['gender'] = users['gender'].map({'M': 'Male', 'F': 'Female'})\n",
    "\n",
    "# Groupby occupation and gender, count rows\n",
    "counts = users.groupby(['occupation', 'gender'])['user_id'].count().reset_index(name='count')\n",
    "\n",
    "# Pivot table to reshape the data\n",
    "table = pd.pivot_table(counts, values='count', index='occupation', \n",
    "                       columns='gender', aggfunc=sum, fill_value=0)\n",
    "\n",
    "# Calculate percentage of each gender per occupation \n",
    "table['Female'] = table['Female'] / (table['Male'] + table['Female']) \n",
    "table['Male'] = table['Male'] / (table['Male'] + table['Female'])\n",
    "\n",
    "# Multiply by 100 and add % symbol\n",
    "table['Female'] = round(table['Female'] * 100, 2).astype(str) + '%'  \n",
    "table['Male'] = round(table['Male'] * 100, 2).astype(str) + '%'\n",
    "\n",
    "# Print table\n",
    "print(table)"
   ]
  },
  {
   "cell_type": "markdown",
   "id": "0d6841b8",
   "metadata": {},
   "source": [
    "## Question 2"
   ]
  },
  {
   "cell_type": "raw",
   "id": "bb2e8c2c",
   "metadata": {},
   "source": [
    "Euro Teams\n",
    "Step 1. Import the necessary libraries\n",
    "Step 2. Import the dataset from \"https://raw.githubusercontent.com/guipsamora/pandas_exercises/master/02_Filtering_%26_Sorting/Euro12/Euro_2012_stats_TEAM.csv\".\n",
    "Step 3. Assign it to a variable called euro12\n",
    "Step 4. Select only the Goal column\n",
    "Step 5. How many team participated in the Euro2012?\n",
    "Step 6. What is the number of columns in the dataset?\n",
    "Step 7. View only the columns Team, Yellow Cards and Red Cards and assign them\n",
    "to a dataframe called discipline\n",
    "Step 8. Sort the teams by Red Cards, then to Yellow Cards\n",
    "Step 9. Calculate the mean Yellow Cards given per Team\n",
    "Step 10. Filter teams that scored more than 6 goalsStep 11. Select the teams that start\n",
    "with G\n",
    "Step 12. Select the first 7 columns\n",
    "Step 13. Select all columns except the last 3\n",
    "Step 14. Present only the Shooting Accuracy from England, Italy and Russia"
   ]
  },
  {
   "cell_type": "markdown",
   "id": "f7fb2b2e",
   "metadata": {},
   "source": [
    "## importing the dataset"
   ]
  },
  {
   "cell_type": "code",
   "execution_count": 8,
   "id": "28512358",
   "metadata": {},
   "outputs": [
    {
     "name": "stdout",
     "output_type": "stream",
     "text": [
      "                   Team  Goals  Shots on target  Shots off target   \n",
      "0               Croatia      4               13                12  \\\n",
      "1        Czech Republic      4               13                18   \n",
      "2               Denmark      4               10                10   \n",
      "3               England      5               11                18   \n",
      "4                France      3               22                24   \n",
      "5               Germany     10               32                32   \n",
      "6                Greece      5                8                18   \n",
      "7                 Italy      6               34                45   \n",
      "8           Netherlands      2               12                36   \n",
      "9                Poland      2               15                23   \n",
      "10             Portugal      6               22                42   \n",
      "11  Republic of Ireland      1                7                12   \n",
      "12               Russia      5                9                31   \n",
      "13                Spain     12               42                33   \n",
      "14               Sweden      5               17                19   \n",
      "15              Ukraine      2                7                26   \n",
      "\n",
      "   Shooting Accuracy % Goals-to-shots  Total shots (inc. Blocked)   \n",
      "0              51.9%            16.0%                          32  \\\n",
      "1              41.9%            12.9%                          39   \n",
      "2              50.0%            20.0%                          27   \n",
      "3              50.0%            17.2%                          40   \n",
      "4              37.9%             6.5%                          65   \n",
      "5              47.8%            15.6%                          80   \n",
      "6              30.7%            19.2%                          32   \n",
      "7              43.0%             7.5%                         110   \n",
      "8              25.0%             4.1%                          60   \n",
      "9              39.4%             5.2%                          48   \n",
      "10             34.3%             9.3%                          82   \n",
      "11             36.8%             5.2%                          28   \n",
      "12             22.5%            12.5%                          59   \n",
      "13             55.9%            16.0%                         100   \n",
      "14             47.2%            13.8%                          39   \n",
      "15             21.2%             6.0%                          38   \n",
      "\n",
      "    Hit Woodwork  Penalty goals  Penalties not scored  ...  Saves made   \n",
      "0              0              0                     0  ...          13  \\\n",
      "1              0              0                     0  ...           9   \n",
      "2              1              0                     0  ...          10   \n",
      "3              0              0                     0  ...          22   \n",
      "4              1              0                     0  ...           6   \n",
      "5              2              1                     0  ...          10   \n",
      "6              1              1                     1  ...          13   \n",
      "7              2              0                     0  ...          20   \n",
      "8              2              0                     0  ...          12   \n",
      "9              0              0                     0  ...           6   \n",
      "10             6              0                     0  ...          10   \n",
      "11             0              0                     0  ...          17   \n",
      "12             2              0                     0  ...          10   \n",
      "13             0              1                     0  ...          15   \n",
      "14             3              0                     0  ...           8   \n",
      "15             0              0                     0  ...          13   \n",
      "\n",
      "    Saves-to-shots ratio  Fouls Won Fouls Conceded  Offsides  Yellow Cards   \n",
      "0                  81.3%         41             62         2             9  \\\n",
      "1                  60.1%         53             73         8             7   \n",
      "2                  66.7%         25             38         8             4   \n",
      "3                  88.1%         43             45         6             5   \n",
      "4                  54.6%         36             51         5             6   \n",
      "5                  62.6%         63             49        12             4   \n",
      "6                  65.1%         67             48        12             9   \n",
      "7                  74.1%        101             89        16            16   \n",
      "8                  70.6%         35             30         3             5   \n",
      "9                  66.7%         48             56         3             7   \n",
      "10                 71.5%         73             90        10            12   \n",
      "11                 65.4%         43             51        11             6   \n",
      "12                 77.0%         34             43         4             6   \n",
      "13                 93.8%        102             83        19            11   \n",
      "14                 61.6%         35             51         7             7   \n",
      "15                 76.5%         48             31         4             5   \n",
      "\n",
      "    Red Cards  Subs on  Subs off  Players Used  \n",
      "0           0        9         9            16  \n",
      "1           0       11        11            19  \n",
      "2           0        7         7            15  \n",
      "3           0       11        11            16  \n",
      "4           0       11        11            19  \n",
      "5           0       15        15            17  \n",
      "6           1       12        12            20  \n",
      "7           0       18        18            19  \n",
      "8           0        7         7            15  \n",
      "9           1        7         7            17  \n",
      "10          0       14        14            16  \n",
      "11          1       10        10            17  \n",
      "12          0        7         7            16  \n",
      "13          0       17        17            18  \n",
      "14          0        9         9            18  \n",
      "15          0        9         9            18  \n",
      "\n",
      "[16 rows x 35 columns]\n"
     ]
    }
   ],
   "source": [
    "euro12 = pd.read_csv(\"https://raw.githubusercontent.com/guipsamora/pandas_exercises/master/02_Filtering_%26_Sorting/Euro12/Euro_2012_stats_TEAM.csv\")\n",
    "print(euro12.head(len(euro12)))"
   ]
  },
  {
   "cell_type": "markdown",
   "id": "4626588d",
   "metadata": {},
   "source": [
    "## Step 4 Select only the Goal column"
   ]
  },
  {
   "cell_type": "code",
   "execution_count": 9,
   "id": "2be08dcd",
   "metadata": {},
   "outputs": [
    {
     "name": "stdout",
     "output_type": "stream",
     "text": [
      "0      4\n",
      "1      4\n",
      "2      4\n",
      "3      5\n",
      "4      3\n",
      "5     10\n",
      "6      5\n",
      "7      6\n",
      "8      2\n",
      "9      2\n",
      "10     6\n",
      "11     1\n",
      "12     5\n",
      "13    12\n",
      "14     5\n",
      "15     2\n",
      "Name: Goals, dtype: int64\n"
     ]
    }
   ],
   "source": [
    "goals = euro12['Goals']\n",
    "print(goals)"
   ]
  },
  {
   "cell_type": "markdown",
   "id": "94d61a4e",
   "metadata": {},
   "source": [
    "## Step 5. How many team participated in the Euro2012?"
   ]
  },
  {
   "cell_type": "code",
   "execution_count": 10,
   "id": "c0cea858",
   "metadata": {},
   "outputs": [
    {
     "name": "stdout",
     "output_type": "stream",
     "text": [
      "Number of teams participated in Euro2012: 16\n"
     ]
    }
   ],
   "source": [
    "num_teams = len(euro12['Team'].unique())\n",
    "\n",
    "print('Number of teams participated in Euro2012: ' + str(num_teams))"
   ]
  },
  {
   "cell_type": "markdown",
   "id": "a1b0fb09",
   "metadata": {},
   "source": [
    "## Step 6. What is the number of columns in the dataset?"
   ]
  },
  {
   "cell_type": "code",
   "execution_count": 11,
   "id": "825f661a",
   "metadata": {},
   "outputs": [
    {
     "name": "stdout",
     "output_type": "stream",
     "text": [
      "Number of columns in Euro2012: 35\n"
     ]
    }
   ],
   "source": [
    "num_cols = len(euro12.columns)\n",
    "print('Number of columns in Euro2012: ' + str(num_cols))"
   ]
  },
  {
   "cell_type": "markdown",
   "id": "5adbfe79",
   "metadata": {},
   "source": [
    "## Step 7. View only the columns Team, Yellow Cards and Red Cards and assign them to a dataframe called discipline"
   ]
  },
  {
   "cell_type": "code",
   "execution_count": 41,
   "id": "019a4cf7",
   "metadata": {},
   "outputs": [
    {
     "name": "stdout",
     "output_type": "stream",
     "text": [
      "                   Team  Yellow Cards  Red Cards\n",
      "0               Croatia             9          0\n",
      "1        Czech Republic             7          0\n",
      "2               Denmark             4          0\n",
      "3               England             5          0\n",
      "4                France             6          0\n",
      "5               Germany             4          0\n",
      "6                Greece             9          1\n",
      "7                 Italy            16          0\n",
      "8           Netherlands             5          0\n",
      "9                Poland             7          1\n",
      "10             Portugal            12          0\n",
      "11  Republic of Ireland             6          1\n",
      "12               Russia             6          0\n",
      "13                Spain            11          0\n",
      "14               Sweden             7          0\n",
      "15              Ukraine             5          0\n"
     ]
    }
   ],
   "source": [
    "discipline = euro12[['Team', 'Yellow Cards', 'Red Cards']]\n",
    "print(discipline)"
   ]
  },
  {
   "cell_type": "markdown",
   "id": "daf5a39c",
   "metadata": {},
   "source": [
    "## Step 8. Sort the teams by Red Cards, then to Yellow Cards"
   ]
  },
  {
   "cell_type": "code",
   "execution_count": 42,
   "id": "d36a893f",
   "metadata": {},
   "outputs": [
    {
     "name": "stdout",
     "output_type": "stream",
     "text": [
      "                   Team  Yellow Cards  Red Cards\n",
      "2               Denmark             4          0\n",
      "5               Germany             4          0\n",
      "3               England             5          0\n",
      "8           Netherlands             5          0\n",
      "15              Ukraine             5          0\n",
      "4                France             6          0\n",
      "12               Russia             6          0\n",
      "1        Czech Republic             7          0\n",
      "14               Sweden             7          0\n",
      "0               Croatia             9          0\n",
      "13                Spain            11          0\n",
      "10             Portugal            12          0\n",
      "7                 Italy            16          0\n",
      "11  Republic of Ireland             6          1\n",
      "9                Poland             7          1\n",
      "6                Greece             9          1\n"
     ]
    }
   ],
   "source": [
    "discipline = euro12[['Team', 'Yellow Cards', 'Red Cards']]\n",
    "\n",
    "discipline = discipline.sort_values(by=['Red Cards', 'Yellow Cards'])\n",
    "\n",
    "print(discipline)"
   ]
  },
  {
   "cell_type": "markdown",
   "id": "5d617b27",
   "metadata": {},
   "source": [
    "## Step 9. Calculate the mean Yellow Cards given per Team"
   ]
  },
  {
   "cell_type": "code",
   "execution_count": 12,
   "id": "2bba9031",
   "metadata": {},
   "outputs": [
    {
     "name": "stdout",
     "output_type": "stream",
     "text": [
      "Team\n",
      "Croatia                 9.0\n",
      "Czech Republic          7.0\n",
      "Denmark                 4.0\n",
      "England                 5.0\n",
      "France                  6.0\n",
      "Germany                 4.0\n",
      "Greece                  9.0\n",
      "Italy                  16.0\n",
      "Netherlands             5.0\n",
      "Poland                  7.0\n",
      "Portugal               12.0\n",
      "Republic of Ireland     6.0\n",
      "Russia                  6.0\n",
      "Spain                  11.0\n",
      "Sweden                  7.0\n",
      "Ukraine                 5.0\n",
      "Name: Yellow Cards, dtype: float64\n"
     ]
    }
   ],
   "source": [
    "yellowcard = euro12[['Team', 'Yellow Cards']]\n",
    "\n",
    "means = yellowcard.groupby('Team')['Yellow Cards'].agg('mean')\n",
    "\n",
    "print(means)"
   ]
  },
  {
   "cell_type": "markdown",
   "id": "e0eba7fb",
   "metadata": {},
   "source": [
    "## Step 10. Filter teams that scored more than 6 goals"
   ]
  },
  {
   "cell_type": "code",
   "execution_count": 45,
   "id": "1212b76b",
   "metadata": {},
   "outputs": [
    {
     "name": "stdout",
     "output_type": "stream",
     "text": [
      "5     Germany\n",
      "13      Spain\n"
     ]
    }
   ],
   "source": [
    "# Filter for teams with more than 6 goals \n",
    "df_goals = euro12[euro12['Goals'] > 6]\n",
    "\n",
    "print(df_goals['Team'].to_string(index=True))"
   ]
  },
  {
   "cell_type": "markdown",
   "id": "89f6b867",
   "metadata": {},
   "source": [
    "## Step 11. Select the teams that start with G.\n"
   ]
  },
  {
   "cell_type": "code",
   "execution_count": 10,
   "id": "c966b94b",
   "metadata": {},
   "outputs": [
    {
     "name": "stdout",
     "output_type": "stream",
     "text": [
      "      Team  Goals  Shots on target  Shots off target Shooting Accuracy   \n",
      "5  Germany     10               32                32             47.8%  \\\n",
      "6   Greece      5                8                18             30.7%   \n",
      "\n",
      "  % Goals-to-shots  Total shots (inc. Blocked)  Hit Woodwork  Penalty goals   \n",
      "5            15.6%                          80             2              1  \\\n",
      "6            19.2%                          32             1              1   \n",
      "\n",
      "   Penalties not scored  ...  Saves made  Saves-to-shots ratio  Fouls Won   \n",
      "5                     0  ...          10                 62.6%         63  \\\n",
      "6                     1  ...          13                 65.1%         67   \n",
      "\n",
      "  Fouls Conceded  Offsides  Yellow Cards  Red Cards  Subs on  Subs off   \n",
      "5             49        12             4          0       15        15  \\\n",
      "6             48        12             9          1       12        12   \n",
      "\n",
      "   Players Used  \n",
      "5            17  \n",
      "6            20  \n",
      "\n",
      "[2 rows x 35 columns]\n"
     ]
    }
   ],
   "source": [
    "g_teams = euro12.iloc[euro12[euro12['Team'].str.startswith('G')].index]\n",
    "print(g_teams)"
   ]
  },
  {
   "cell_type": "markdown",
   "id": "4ff352bb",
   "metadata": {},
   "source": [
    "## Step 12. Select the first 7 columns\n"
   ]
  },
  {
   "cell_type": "code",
   "execution_count": 18,
   "id": "c0f35454",
   "metadata": {},
   "outputs": [
    {
     "name": "stdout",
     "output_type": "stream",
     "text": [
      "                   Team  Goals  Shots on target  Shots off target   \n",
      "0               Croatia      4               13                12  \\\n",
      "1        Czech Republic      4               13                18   \n",
      "2               Denmark      4               10                10   \n",
      "3               England      5               11                18   \n",
      "4                France      3               22                24   \n",
      "5               Germany     10               32                32   \n",
      "6                Greece      5                8                18   \n",
      "7                 Italy      6               34                45   \n",
      "8           Netherlands      2               12                36   \n",
      "9                Poland      2               15                23   \n",
      "10             Portugal      6               22                42   \n",
      "11  Republic of Ireland      1                7                12   \n",
      "12               Russia      5                9                31   \n",
      "13                Spain     12               42                33   \n",
      "14               Sweden      5               17                19   \n",
      "15              Ukraine      2                7                26   \n",
      "\n",
      "   Shooting Accuracy % Goals-to-shots  Total shots (inc. Blocked)  \n",
      "0              51.9%            16.0%                          32  \n",
      "1              41.9%            12.9%                          39  \n",
      "2              50.0%            20.0%                          27  \n",
      "3              50.0%            17.2%                          40  \n",
      "4              37.9%             6.5%                          65  \n",
      "5              47.8%            15.6%                          80  \n",
      "6              30.7%            19.2%                          32  \n",
      "7              43.0%             7.5%                         110  \n",
      "8              25.0%             4.1%                          60  \n",
      "9              39.4%             5.2%                          48  \n",
      "10             34.3%             9.3%                          82  \n",
      "11             36.8%             5.2%                          28  \n",
      "12             22.5%            12.5%                          59  \n",
      "13             55.9%            16.0%                         100  \n",
      "14             47.2%            13.8%                          39  \n",
      "15             21.2%             6.0%                          38  \n"
     ]
    }
   ],
   "source": [
    "first_7 = euro12.iloc[:, list(range(7))]\n",
    "print(first_7)"
   ]
  },
  {
   "cell_type": "markdown",
   "id": "3142e854",
   "metadata": {},
   "source": [
    "## Step 13. Select all columns except the last 3"
   ]
  },
  {
   "cell_type": "code",
   "execution_count": 20,
   "id": "23daa262",
   "metadata": {},
   "outputs": [
    {
     "name": "stdout",
     "output_type": "stream",
     "text": [
      "                   Team  Goals  Shots on target  Shots off target   \n",
      "0               Croatia      4               13                12  \\\n",
      "1        Czech Republic      4               13                18   \n",
      "2               Denmark      4               10                10   \n",
      "3               England      5               11                18   \n",
      "4                France      3               22                24   \n",
      "5               Germany     10               32                32   \n",
      "6                Greece      5                8                18   \n",
      "7                 Italy      6               34                45   \n",
      "8           Netherlands      2               12                36   \n",
      "9                Poland      2               15                23   \n",
      "10             Portugal      6               22                42   \n",
      "11  Republic of Ireland      1                7                12   \n",
      "12               Russia      5                9                31   \n",
      "13                Spain     12               42                33   \n",
      "14               Sweden      5               17                19   \n",
      "15              Ukraine      2                7                26   \n",
      "\n",
      "   Shooting Accuracy % Goals-to-shots  Total shots (inc. Blocked)   \n",
      "0              51.9%            16.0%                          32  \\\n",
      "1              41.9%            12.9%                          39   \n",
      "2              50.0%            20.0%                          27   \n",
      "3              50.0%            17.2%                          40   \n",
      "4              37.9%             6.5%                          65   \n",
      "5              47.8%            15.6%                          80   \n",
      "6              30.7%            19.2%                          32   \n",
      "7              43.0%             7.5%                         110   \n",
      "8              25.0%             4.1%                          60   \n",
      "9              39.4%             5.2%                          48   \n",
      "10             34.3%             9.3%                          82   \n",
      "11             36.8%             5.2%                          28   \n",
      "12             22.5%            12.5%                          59   \n",
      "13             55.9%            16.0%                         100   \n",
      "14             47.2%            13.8%                          39   \n",
      "15             21.2%             6.0%                          38   \n",
      "\n",
      "    Hit Woodwork  Penalty goals  Penalties not scored  ...  Clean Sheets   \n",
      "0              0              0                     0  ...             0  \\\n",
      "1              0              0                     0  ...             1   \n",
      "2              1              0                     0  ...             1   \n",
      "3              0              0                     0  ...             2   \n",
      "4              1              0                     0  ...             1   \n",
      "5              2              1                     0  ...             1   \n",
      "6              1              1                     1  ...             1   \n",
      "7              2              0                     0  ...             2   \n",
      "8              2              0                     0  ...             0   \n",
      "9              0              0                     0  ...             0   \n",
      "10             6              0                     0  ...             2   \n",
      "11             0              0                     0  ...             0   \n",
      "12             2              0                     0  ...             0   \n",
      "13             0              1                     0  ...             5   \n",
      "14             3              0                     0  ...             1   \n",
      "15             0              0                     0  ...             0   \n",
      "\n",
      "    Blocks  Goals conceded Saves made  Saves-to-shots ratio  Fouls Won   \n",
      "0       10               3         13                 81.3%         41  \\\n",
      "1       10               6          9                 60.1%         53   \n",
      "2       10               5         10                 66.7%         25   \n",
      "3       29               3         22                 88.1%         43   \n",
      "4        7               5          6                 54.6%         36   \n",
      "5       11               6         10                 62.6%         63   \n",
      "6       23               7         13                 65.1%         67   \n",
      "7       18               7         20                 74.1%        101   \n",
      "8        9               5         12                 70.6%         35   \n",
      "9        8               3          6                 66.7%         48   \n",
      "10      11               4         10                 71.5%         73   \n",
      "11      23               9         17                 65.4%         43   \n",
      "12       8               3         10                 77.0%         34   \n",
      "13       8               1         15                 93.8%        102   \n",
      "14      12               5          8                 61.6%         35   \n",
      "15       4               4         13                 76.5%         48   \n",
      "\n",
      "    Fouls Conceded  Offsides  Yellow Cards  Red Cards  \n",
      "0               62         2             9          0  \n",
      "1               73         8             7          0  \n",
      "2               38         8             4          0  \n",
      "3               45         6             5          0  \n",
      "4               51         5             6          0  \n",
      "5               49        12             4          0  \n",
      "6               48        12             9          1  \n",
      "7               89        16            16          0  \n",
      "8               30         3             5          0  \n",
      "9               56         3             7          1  \n",
      "10              90        10            12          0  \n",
      "11              51        11             6          1  \n",
      "12              43         4             6          0  \n",
      "13              83        19            11          0  \n",
      "14              51         7             7          0  \n",
      "15              31         4             5          0  \n",
      "\n",
      "[16 rows x 32 columns]\n"
     ]
    }
   ],
   "source": [
    "# Select first n-3 columns \n",
    "cols = euro12.iloc[:, :len(euro12.columns)-3]\n",
    "print(cols)"
   ]
  },
  {
   "cell_type": "markdown",
   "id": "308cc9b4",
   "metadata": {},
   "source": [
    "## Step 14. Present only the Shooting Accuracy from England, Italy and Russia"
   ]
  },
  {
   "cell_type": "code",
   "execution_count": 21,
   "id": "43d76faf",
   "metadata": {},
   "outputs": [
    {
     "name": "stdout",
     "output_type": "stream",
     "text": [
      "       Team Shooting Accuracy\n",
      "3   England             50.0%\n",
      "7     Italy             43.0%\n",
      "12   Russia             22.5%\n"
     ]
    }
   ],
   "source": [
    "acc = euro12[euro12['Team'].isin(['England', 'Italy', 'Russia'])][['Team', 'Shooting Accuracy']]\n",
    "\n",
    "print(acc)"
   ]
  },
  {
   "cell_type": "markdown",
   "id": "179ed33c",
   "metadata": {},
   "source": [
    "## Question 3"
   ]
  },
  {
   "cell_type": "raw",
   "id": "b3f33e17",
   "metadata": {},
   "source": [
    "Housing\n",
    "Step 1. Import the necessary libraries\n",
    "Step 2. Create 3 differents Series, each of length 100, as follows:\n",
    "• The first a random number from 1 to 4\n",
    "• The second a random number from 1 to 3\n",
    "• The third a random number from 10,000 to 30,000\n",
    "Step 3. Create a DataFrame by joinning the Series by column\n",
    "Step 4. Change the name of the columns to bedrs, bathrs, price_sqr_meter\n",
    "Step 5. Create a one column DataFrame with the values of the 3 Series and assign it\n",
    "to 'bigcolumn'\n",
    "Step 6. Ops it seems it is going only until index 99. Is it true?\n",
    "Step 7. Reindex the DataFrame so it goes from 0 to 299"
   ]
  },
  {
   "cell_type": "markdown",
   "id": "fdff3b6d",
   "metadata": {},
   "source": [
    "## Step 1 Import the necessary libraries"
   ]
  },
  {
   "cell_type": "code",
   "execution_count": 24,
   "id": "6d6d0551",
   "metadata": {},
   "outputs": [],
   "source": [
    "import random"
   ]
  },
  {
   "cell_type": "markdown",
   "id": "43bab768",
   "metadata": {},
   "source": [
    "## Step 2. Create 3 differents Series, each of length 100, as follows:• The first a random number from 1 to 4 • The second a random number from 1 to 3 • The third a random number from 10,000 to 30,000"
   ]
  },
  {
   "cell_type": "code",
   "execution_count": 29,
   "id": "6461ec10",
   "metadata": {},
   "outputs": [
    {
     "name": "stdout",
     "output_type": "stream",
     "text": [
      "Series of length 100 with random numbers from 1 to 4: \n",
      "\n",
      "0     2\n",
      "1     1\n",
      "2     4\n",
      "3     1\n",
      "4     1\n",
      "     ..\n",
      "95    1\n",
      "96    3\n",
      "97    3\n",
      "98    4\n",
      "99    1\n",
      "Length: 100, dtype: int64\n",
      "\n",
      "Series of length 100 with random number from 1 to 3: \n",
      "\n",
      "0     1\n",
      "1     3\n",
      "2     2\n",
      "3     3\n",
      "4     2\n",
      "     ..\n",
      "95    3\n",
      "96    2\n",
      "97    3\n",
      "98    2\n",
      "99    2\n",
      "Length: 100, dtype: int64\n",
      "\n",
      "Series of length 100 with random number from 10,000 to 30,000: \n",
      "\n",
      "0     14938\n",
      "1     16639\n",
      "2     25325\n",
      "3     12683\n",
      "4     23594\n",
      "      ...  \n",
      "95    24190\n",
      "96    18025\n",
      "97    24446\n",
      "98    21866\n",
      "99    11142\n",
      "Length: 100, dtype: int64\n"
     ]
    }
   ],
   "source": [
    "series1 = pd.Series([random.randint(1,4) for _ in range(100)])\n",
    "series2 = pd.Series([random.randint(1,3) for _ in range(100)])\n",
    "series3 = pd.Series([random.randint(10000,30000) for _ in range(100)])\n",
    "\n",
    "print('Series of length 100 with random numbers from 1 to 4: ')\n",
    "print()\n",
    "print(series1)\n",
    "print()\n",
    "print('Series of length 100 with random number from 1 to 3: ')\n",
    "print()\n",
    "print(series2)\n",
    "print()\n",
    "print('Series of length 100 with random number from 10,000 to 30,000: ')\n",
    "print()\n",
    "print(series3)"
   ]
  },
  {
   "cell_type": "markdown",
   "id": "78851940",
   "metadata": {},
   "source": [
    "## Step 3. Create a DataFrame by joining the Series by column"
   ]
  },
  {
   "cell_type": "code",
   "execution_count": 30,
   "id": "5e7f0091",
   "metadata": {},
   "outputs": [
    {
     "name": "stdout",
     "output_type": "stream",
     "text": [
      "DataFrame by joining the Series by column: \n",
      "\n",
      "    Col1  Col2   Col3\n",
      "0      4     1  12416\n",
      "1      1     2  20549\n",
      "2      3     3  12674\n",
      "3      4     3  25136\n",
      "4      2     3  27075\n",
      "..   ...   ...    ...\n",
      "95     1     2  12635\n",
      "96     1     1  13569\n",
      "97     3     1  27743\n",
      "98     3     3  17565\n",
      "99     2     2  17440\n",
      "\n",
      "[100 rows x 3 columns]\n"
     ]
    }
   ],
   "source": [
    "series1 = pd.Series([random.randint(1,4) for _ in range(100)]) \n",
    "series2 = pd.Series([random.randint(1,3) for _ in range(100)])\n",
    "series3 = pd.Series([random.randint(10000,30000) for _ in range(100)])\n",
    "\n",
    "df = pd.DataFrame({\n",
    "    'Col1': series1,\n",
    "    'Col2': series2, \n",
    "    'Col3': series3\n",
    "})\n",
    "\n",
    "print('DataFrame by joining the Series by column: ')\n",
    "print()\n",
    "print(df)"
   ]
  },
  {
   "cell_type": "markdown",
   "id": "ba7da612",
   "metadata": {},
   "source": [
    "## Step 4. Change the name of the columns to bedrs, bathrs, price_sqr_meter"
   ]
  },
  {
   "cell_type": "code",
   "execution_count": 31,
   "id": "7873720f",
   "metadata": {},
   "outputs": [
    {
     "name": "stdout",
     "output_type": "stream",
     "text": [
      "    bedrs  bathrs  price_sqr_meter\n",
      "0       4       1            12416\n",
      "1       1       2            20549\n",
      "2       3       3            12674\n",
      "3       4       3            25136\n",
      "4       2       3            27075\n",
      "..    ...     ...              ...\n",
      "95      1       2            12635\n",
      "96      1       1            13569\n",
      "97      3       1            27743\n",
      "98      3       3            17565\n",
      "99      2       2            17440\n",
      "\n",
      "[100 rows x 3 columns]\n"
     ]
    }
   ],
   "source": [
    "df.rename(columns = {'Col1': 'bedrs', 'Col2': 'bathrs','Col3':'price_sqr_meter'}, inplace = True)\n",
    "print(df)"
   ]
  },
  {
   "cell_type": "markdown",
   "id": "95671043",
   "metadata": {},
   "source": [
    "## Step 5. Create a one column DataFrame with the values of the 3 Series and assign it to 'bigcolumn'"
   ]
  },
  {
   "cell_type": "code",
   "execution_count": 32,
   "id": "7ad07861",
   "metadata": {},
   "outputs": [
    {
     "name": "stdout",
     "output_type": "stream",
     "text": [
      "DataFrame with the values of the 3 Series: \n",
      "\n",
      "    bigcolumn\n",
      "0           4\n",
      "1           1\n",
      "2           3\n",
      "3           4\n",
      "4           2\n",
      "..        ...\n",
      "95      12635\n",
      "96      13569\n",
      "97      27743\n",
      "98      17565\n",
      "99      17440\n",
      "\n",
      "[300 rows x 1 columns]\n"
     ]
    }
   ],
   "source": [
    "bigcolumn = pd.DataFrame({\n",
    "    'bigcolumn': pd.concat([series1, series2, series3])  \n",
    "})\n",
    "\n",
    "print('DataFrame with the values of the 3 Series: ')\n",
    "print()\n",
    "print(bigcolumn)"
   ]
  },
  {
   "cell_type": "markdown",
   "id": "1f6a01b3",
   "metadata": {},
   "source": [
    "## Step 6. Ops it seems it is going only until index 99. Is it true?"
   ]
  },
  {
   "cell_type": "markdown",
   "id": "90ade057",
   "metadata": {},
   "source": [
    "## Yes it is true. This is due to the reason that each original series had 100 elements, so concat preserves those original indexes."
   ]
  },
  {
   "cell_type": "markdown",
   "id": "5c1f4907",
   "metadata": {},
   "source": [
    "## Step 7. Reindex the DataFrame so it goes from 0 to 299"
   ]
  },
  {
   "cell_type": "code",
   "execution_count": 34,
   "id": "65b0ca66",
   "metadata": {},
   "outputs": [
    {
     "name": "stdout",
     "output_type": "stream",
     "text": [
      "Reindexing the dataframe so it goes from 0 to 299: \n",
      "\n",
      "     bigcolumn\n",
      "0            4\n",
      "1            1\n",
      "2            3\n",
      "3            4\n",
      "4            2\n",
      "..         ...\n",
      "295      12635\n",
      "296      13569\n",
      "297      27743\n",
      "298      17565\n",
      "299      17440\n",
      "\n",
      "[300 rows x 1 columns]\n"
     ]
    }
   ],
   "source": [
    "bigcolumn = pd.DataFrame({\n",
    "  'bigcolumn': pd.concat([series1, series2, series3])\n",
    "})\n",
    "\n",
    "bigcolumn = bigcolumn.reset_index(drop=True)\n",
    "print('Reindexing the dataframe so it goes from 0 to 299: ')\n",
    "print()\n",
    "print(bigcolumn)"
   ]
  },
  {
   "cell_type": "markdown",
   "id": "5bad66ff",
   "metadata": {},
   "source": [
    "## Question 4"
   ]
  },
  {
   "cell_type": "raw",
   "id": "3e3cf35c",
   "metadata": {},
   "source": [
    "Wind Statistics\n",
    "The data have been modified to contain some missing values, identified by NaN.\n",
    "Using pandas should make this exercise easier, in particular for the bonus question.\n",
    "You should be able to perform all of these operations without using a for loop or\n",
    "other looping construct.\n",
    "The data in 'wind.data' has the following format:\n",
    "Yr Mo Dy RPT VAL ROS KIL SHA BIR DUB CLA MUL CLO BEL\n",
    "MAL\n",
    "61 1 1 15.04 14.96 13.17 9.29 NaN 9.87 13.67 10.25 10.83 12.58 18.50 15.04\n",
    "61 1 2 14.71 NaN 10.83 6.50 12.62 7.67 11.50 10.04 9.79 9.67 17.54 13.83\n",
    "61 1 3 18.50 16.88 12.33 10.13 11.17 6.17 11.25 NaN 8.50 7.67 12.75 12.71\n",
    "The first three columns are year, month, and day. The remaining 12 columns are\n",
    "average windspeeds in knots at 12 locations in Ireland on that day.\n",
    "Step 1. Import the necessary libraries\n",
    "Step 2. Import the dataset from the attached file wind.txt\n",
    "Step 3. Assign it to a variable called data and replace the first 3 columns by a proper\n",
    "datetime index.\n",
    "Step 4. Year 2061? Do we really have data from this year? Create a function to fix it\n",
    "and apply it.\n",
    "Step 5. Set the right dates as the index. Pay attention at the data type, it should be\n",
    "datetime64[ns].\n",
    "Step 6. Compute how many values are missing for each location over the entire\n",
    "record.They should be ignored in all calculations below.\n",
    "Step 7. Compute how many non-missing values there are in total.\n",
    "Step 8. Calculate the mean windspeeds of the windspeeds over all the locations and\n",
    "all the times.\n",
    "A single number for the entire dataset.\n",
    "Step 9. Create a DataFrame called loc_stats and calculate the min, max and mean\n",
    "windspeeds and standard deviations of the windspeeds at each location over all the\n",
    "days\n",
    "A different set of numbers for each location.\n",
    "Step 10. Create a DataFrame called day_stats and calculate the min, max and mean\n",
    "windspeed and standard deviations of the windspeeds across all the locations at each\n",
    "day.\n",
    "A different set of numbers for each day.\n",
    "Step 11. Find the average windspeed in January for each location.\n",
    "Treat January 1961 and January 1962 both as January.\n",
    "Step 12. Downsample the record to a yearly frequency for each location.\n",
    "Step 13. Downsample the record to a monthly frequency for each location.\n",
    "Step 14. Downsample the record to a weekly frequency for each location.\n",
    "Step 15. Calculate the min, max and mean windspeeds and standard deviations of the\n",
    "windspeeds across all locations for each week (assume that the first week starts on\n",
    "January 2 1961) for the first 52 weeks."
   ]
  },
  {
   "cell_type": "code",
   "execution_count": 1,
   "id": "2a380af6",
   "metadata": {},
   "outputs": [],
   "source": [
    "# step 1\n",
    "import pandas as pd\n",
    "\n",
    "# Step 2 and 3\n",
    "data = pd.read_csv(\"wind.txt\", sep=\" \")\n",
    "\n",
    "def fix_year(year):\n",
    "    if year >= 90:\n",
    "        return 1900 + year\n",
    "    else:\n",
    "        return 2000 + year\n",
    "\n",
    "# Step 4\n",
    "data['Yr'] = data['Yr'].apply(fix_year)\n",
    "data = data.rename(columns={'Yr': 'year', 'Mo': 'month', 'Dy': 'day'})\n",
    "data['date'] = pd.to_datetime(data[['year', 'month', 'day']])\n",
    "\n",
    "# Step 5\n",
    "data.set_index('date', inplace=True)"
   ]
  },
  {
   "cell_type": "code",
   "execution_count": 2,
   "id": "769f75a8",
   "metadata": {},
   "outputs": [
    {
     "name": "stdout",
     "output_type": "stream",
     "text": [
      "First few rows of the dataset:\n",
      "       year  month  day  Unnamed: 3  Unnamed: 4    RPT  Unnamed: 6  Unnamed: 7   \n",
      "date                                                                            \n",
      "NaT   2061    NaN  1.0         NaN         1.0  15.04       14.96       13.17  \\\n",
      "NaT   2061    NaN  1.0         NaN         2.0  14.71         NaN         NaN   \n",
      "NaT   2061    NaN  1.0         NaN         3.0  18.50       16.88       12.33   \n",
      "NaT   2061    NaN  1.0         NaN         4.0  10.58         NaN        6.63   \n",
      "NaT   2061    NaN  1.0         NaN         5.0  13.33       13.25       11.42   \n",
      "\n",
      "        VAL  Unnamed: 9  ...  MUL  Unnamed: 30  Unnamed: 31  CLO  Unnamed: 33   \n",
      "date                     ...                                                    \n",
      "NaT     NaN        9.29  ...  NaN          NaN          NaN  NaN          NaN  \\\n",
      "NaT     NaN       10.83  ...  NaN          NaN          NaN  NaN          NaN   \n",
      "NaT   10.13       11.17  ...  NaN          NaN          NaN  NaN          NaN   \n",
      "NaT   11.75         NaN  ...  NaN          NaN          NaN  NaN          NaN   \n",
      "NaT     NaN        6.17  ...  NaN          NaN          NaN  NaN          NaN   \n",
      "\n",
      "      Unnamed: 34  BEL  Unnamed: 36  Unnamed: 37  MAL  \n",
      "date                                                   \n",
      "NaT           NaN  NaN          NaN          NaN  NaN  \n",
      "NaT           NaN  NaN          NaN          NaN  NaN  \n",
      "NaT           NaN  NaN          NaN          NaN  NaN  \n",
      "NaT           NaN  NaN          NaN          NaN  NaN  \n",
      "NaT           NaN  NaN          NaN          NaN  NaN  \n",
      "\n",
      "[5 rows x 39 columns]\n"
     ]
    }
   ],
   "source": [
    "print(\"First few rows of the dataset:\\n\", data.head())"
   ]
  },
  {
   "cell_type": "code",
   "execution_count": 3,
   "id": "4e6df645",
   "metadata": {},
   "outputs": [
    {
     "name": "stdout",
     "output_type": "stream",
     "text": [
      "Missing Values Count Per Location:\n",
      "year              0\n",
      "month          4918\n",
      "day             486\n",
      "Unnamed: 3     1831\n",
      "Unnamed: 4     1667\n",
      "RPT            1625\n",
      "Unnamed: 6     2256\n",
      "Unnamed: 7     2478\n",
      "VAL            2432\n",
      "Unnamed: 9     2101\n",
      "Unnamed: 10    2575\n",
      "ROS            2152\n",
      "Unnamed: 12    2393\n",
      "Unnamed: 13    2143\n",
      "KIL            2331\n",
      "Unnamed: 15    2221\n",
      "Unnamed: 16    2985\n",
      "SHA            3204\n",
      "Unnamed: 18    3687\n",
      "Unnamed: 19    3732\n",
      "BIR            4065\n",
      "Unnamed: 21    4078\n",
      "Unnamed: 22    4462\n",
      "DUB            4416\n",
      "Unnamed: 24    4817\n",
      "Unnamed: 25    5032\n",
      "CLA            5590\n",
      "Unnamed: 27    5963\n",
      "Unnamed: 28    6428\n",
      "MUL            6574\n",
      "Unnamed: 30    6573\n",
      "Unnamed: 31    6574\n",
      "CLO            6574\n",
      "Unnamed: 33    6574\n",
      "Unnamed: 34    6574\n",
      "BEL            6574\n",
      "Unnamed: 36    6574\n",
      "Unnamed: 37    6574\n",
      "MAL            6574\n",
      "dtype: int64\n"
     ]
    }
   ],
   "source": [
    "# Step 6\n",
    "missing_values_per_location = data.isnull().sum()\n",
    "print(\"Missing Values Count Per Location:\")\n",
    "print(missing_values_per_location)"
   ]
  },
  {
   "cell_type": "code",
   "execution_count": 4,
   "id": "2dd1ed63",
   "metadata": {},
   "outputs": [
    {
     "name": "stdout",
     "output_type": "stream",
     "text": [
      "Total Number of Non-Missing Values: 98579\n"
     ]
    }
   ],
   "source": [
    "# Step 7\n",
    "total_non_missing_values = data.notnull().sum().sum()\n",
    "print(\"Total Number of Non-Missing Values:\", total_non_missing_values)"
   ]
  },
  {
   "cell_type": "code",
   "execution_count": 5,
   "id": "243e1b9e",
   "metadata": {},
   "outputs": [
    {
     "name": "stdout",
     "output_type": "stream",
     "text": [
      "Mean Windspeed Over All Locations and Times: 78.53632829425008\n"
     ]
    }
   ],
   "source": [
    "# Step 8\n",
    "mean_windspeed = data.mean().mean()\n",
    "print(\"Mean Windspeed Over All Locations and Times:\", mean_windspeed)"
   ]
  },
  {
   "cell_type": "code",
   "execution_count": 6,
   "id": "bc93fce7",
   "metadata": {},
   "outputs": [
    {
     "name": "stdout",
     "output_type": "stream",
     "text": [
      "Statistics for Windspeed at Each Location:\n",
      "                 min      max         mean       std\n",
      "year         2061.00  2078.00  2069.500304  5.188131\n",
      "month          10.00    12.00    11.000000  0.821170\n",
      "day             1.00    31.00     7.960578  7.025155\n",
      "Unnamed: 3      1.00    32.96    17.997723  7.320219\n",
      "Unnamed: 4      1.00    35.38    11.769851  6.146505\n",
      "RPT             0.67    35.80    12.415559  5.229848\n",
      "Unnamed: 6      0.21    32.75    11.842916  4.940703\n",
      "Unnamed: 7      0.42    30.37     9.967187  4.911509\n",
      "VAL             0.33    37.54    10.106519  4.953028\n",
      "Unnamed: 9      0.25    32.42    10.079287  4.583270\n",
      "Unnamed: 10     0.00    30.37     9.848580  5.254887\n",
      "ROS             0.08    31.08     9.175468  5.175858\n",
      "Unnamed: 12     0.13    28.21     9.901736  4.674471\n",
      "Unnamed: 13     0.04    38.96     9.994572  5.011803\n",
      "KIL             0.00    42.38    10.897985  6.676379\n",
      "Unnamed: 15     0.00    42.54    10.921328  7.623103\n",
      "Unnamed: 16     0.00    35.13    10.658755  6.660911\n",
      "SHA             0.25    37.99     9.439496  5.788945\n",
      "Unnamed: 18     0.00    41.46     9.127191  5.524925\n",
      "Unnamed: 19     0.04    33.66     8.309641  5.358097\n",
      "BIR             0.00    35.50     8.548127  5.315896\n",
      "Unnamed: 21     0.29    33.17     8.132188  5.180466\n",
      "Unnamed: 22     0.04    33.04     8.451222  5.071942\n",
      "DUB             0.04    34.08     8.168874  4.968116\n",
      "Unnamed: 24     0.13    25.54     9.439585  4.574218\n",
      "Unnamed: 25     0.13    25.00     9.420863  4.048751\n",
      "CLA             0.58    26.25     9.240346  3.623705\n",
      "Unnamed: 27     2.04    27.88     7.857807  3.134903\n",
      "Unnamed: 28     2.21     9.96     6.706164  1.947997\n",
      "MUL              NaN      NaN          NaN       NaN\n",
      "Unnamed: 30     9.21     9.21     9.210000       NaN\n",
      "Unnamed: 31      NaN      NaN          NaN       NaN\n",
      "CLO              NaN      NaN          NaN       NaN\n",
      "Unnamed: 33      NaN      NaN          NaN       NaN\n",
      "Unnamed: 34      NaN      NaN          NaN       NaN\n",
      "BEL              NaN      NaN          NaN       NaN\n",
      "Unnamed: 36      NaN      NaN          NaN       NaN\n",
      "Unnamed: 37      NaN      NaN          NaN       NaN\n",
      "MAL              NaN      NaN          NaN       NaN\n"
     ]
    }
   ],
   "source": [
    "# Step 9\n",
    "loc_stats = pd.DataFrame({\n",
    "    'min': data.min(),\n",
    "    'max': data.max(),\n",
    "    'mean': data.mean(),\n",
    "    'std': data.std()\n",
    "})\n",
    "\n",
    "print(\"Statistics for Windspeed at Each Location:\")\n",
    "print(loc_stats)"
   ]
  },
  {
   "cell_type": "code",
   "execution_count": 7,
   "id": "c225191d",
   "metadata": {},
   "outputs": [
    {
     "name": "stdout",
     "output_type": "stream",
     "text": [
      "Statistics for Windspeed Across All Locations Each Day:\n",
      "              RPT                      VAL                      ROS          \n",
      "              min    max   mean std    min    max   mean std    min    max   \n",
      "date                                                                         \n",
      "2061-10-10  11.46  11.46  11.46 NaN  13.17  13.17  13.17 NaN  12.38  12.38  \\\n",
      "2061-10-11  10.13  10.13  10.13 NaN  13.54  13.54  13.54 NaN  12.71  12.71   \n",
      "2061-10-12    NaN    NaN    NaN NaN    NaN    NaN    NaN NaN   3.67   3.67   \n",
      "2061-10-13    NaN    NaN    NaN NaN   6.58   6.58   6.58 NaN   8.67   8.67   \n",
      "2061-10-14    NaN    NaN    NaN NaN   4.38   4.38   4.38 NaN    NaN    NaN   \n",
      "...           ...    ...    ...  ..    ...    ...    ...  ..    ...    ...   \n",
      "2078-12-27  17.62  17.62  17.62 NaN  13.21  13.21  13.21 NaN  15.59  15.59   \n",
      "2078-12-28   5.46   5.46   5.46 NaN   5.00   5.00   5.00 NaN    NaN    NaN   \n",
      "2078-12-29  14.42  14.42  14.42 NaN    NaN    NaN    NaN NaN  19.17  19.17   \n",
      "2078-12-30  21.29  21.29  21.29 NaN  12.75  12.75  12.75 NaN  18.08  18.08   \n",
      "2078-12-31  27.29  27.29  27.29 NaN  12.08  12.08  12.08 NaN  11.63  11.63   \n",
      "\n",
      "            ...  CLO     BEL              MAL               \n",
      "            ... mean std min max mean std min max mean std  \n",
      "date        ...                                             \n",
      "2061-10-10  ...  NaN NaN NaN NaN  NaN NaN NaN NaN  NaN NaN  \n",
      "2061-10-11  ...  NaN NaN NaN NaN  NaN NaN NaN NaN  NaN NaN  \n",
      "2061-10-12  ...  NaN NaN NaN NaN  NaN NaN NaN NaN  NaN NaN  \n",
      "2061-10-13  ...  NaN NaN NaN NaN  NaN NaN NaN NaN  NaN NaN  \n",
      "2061-10-14  ...  NaN NaN NaN NaN  NaN NaN NaN NaN  NaN NaN  \n",
      "...         ...  ...  ..  ..  ..  ...  ..  ..  ..  ...  ..  \n",
      "2078-12-27  ...  NaN NaN NaN NaN  NaN NaN NaN NaN  NaN NaN  \n",
      "2078-12-28  ...  NaN NaN NaN NaN  NaN NaN NaN NaN  NaN NaN  \n",
      "2078-12-29  ...  NaN NaN NaN NaN  NaN NaN NaN NaN  NaN NaN  \n",
      "2078-12-30  ...  NaN NaN NaN NaN  NaN NaN NaN NaN  NaN NaN  \n",
      "2078-12-31  ...  NaN NaN NaN NaN  NaN NaN NaN NaN  NaN NaN  \n",
      "\n",
      "[6292 rows x 48 columns]\n"
     ]
    }
   ],
   "source": [
    "# Step 10\n",
    "day_stats = data.resample('D').agg({\n",
    "    'RPT': ['min', 'max', 'mean', 'std'],\n",
    "    'VAL': ['min', 'max', 'mean', 'std'],\n",
    "    'ROS': ['min', 'max', 'mean', 'std'],\n",
    "    'KIL': ['min', 'max', 'mean', 'std'],\n",
    "    'SHA': ['min', 'max', 'mean', 'std'],\n",
    "    'BIR': ['min', 'max', 'mean', 'std'],\n",
    "    'DUB': ['min', 'max', 'mean', 'std'],\n",
    "    'CLA': ['min', 'max', 'mean', 'std'],\n",
    "    'MUL': ['min', 'max', 'mean', 'std'],\n",
    "    'CLO': ['min', 'max', 'mean', 'std'],\n",
    "    'BEL': ['min', 'max', 'mean', 'std'],\n",
    "    'MAL': ['min', 'max', 'mean', 'std']\n",
    "})\n",
    "\n",
    "print(\"Statistics for Windspeed Across All Locations Each Day:\")\n",
    "print(day_stats)"
   ]
  },
  {
   "cell_type": "code",
   "execution_count": 8,
   "id": "35931577",
   "metadata": {},
   "outputs": [
    {
     "name": "stdout",
     "output_type": "stream",
     "text": [
      "Yearly Downsampled Data for Each Location:\n",
      "              year  month        day  Unnamed: 3  Unnamed: 4        RPT   \n",
      "date                                                                      \n",
      "2061-12-31  2061.0   11.0  20.338462   16.566000   11.814909  15.841951  \\\n",
      "2062-12-31  2062.0   11.0  20.338462   15.949268   10.689818  13.582432   \n",
      "2063-12-31  2063.0   11.0  20.338462   17.883061   14.188929  14.539057   \n",
      "2064-12-31  2064.0   11.0  20.338462   16.380714   11.891379  14.196341   \n",
      "2065-12-31  2065.0   11.0  20.338462   16.221250   13.019643  14.180000   \n",
      "2066-12-31  2066.0   11.0  20.338462   15.683800   12.656200  12.500652   \n",
      "2067-12-31  2067.0   11.0  20.338462   16.297209   12.231754  12.910000   \n",
      "2068-12-31  2068.0   11.0  20.338462   16.102449   13.362083  12.840400   \n",
      "2069-12-31  2069.0   11.0  20.338462   15.225833   11.346316  14.435758   \n",
      "2070-12-31  2070.0   11.0  20.338462   15.544783   12.165472  13.799535   \n",
      "2071-12-31  2071.0   11.0  20.338462   16.390426   12.661228  15.008636   \n",
      "2072-12-31  2072.0   11.0  20.338462   16.579512   13.259167  14.032093   \n",
      "2073-12-31  2073.0   11.0  20.338462   14.787619   11.516271  13.419677   \n",
      "2074-12-31  2074.0   11.0  20.338462   18.597755   14.828621  15.031111   \n",
      "2075-12-31  2075.0   11.0  20.338462   15.897500   12.775500  14.230811   \n",
      "2076-12-31  2076.0   11.0  20.338462   15.081875   10.333276  12.045714   \n",
      "2077-12-31  2077.0   11.0  20.338462   17.443962   14.407258  14.316731   \n",
      "2078-12-31  2078.0   11.0  20.338462   17.015750   12.364211  13.752619   \n",
      "\n",
      "            Unnamed: 6  Unnamed: 7        VAL  Unnamed: 9  ...  MUL   \n",
      "date                                                       ...        \n",
      "2061-12-31   10.159111   12.305294   9.467321   12.319667  ...  NaN  \\\n",
      "2062-12-31    8.510625   11.932187   8.889464   13.017742  ...  NaN   \n",
      "2063-12-31   11.972308   12.298600  12.234000   11.875682  ...  NaN   \n",
      "2064-12-31    9.183684   10.177179   9.567660   10.262500  ...  NaN   \n",
      "2065-12-31   10.478913   11.594615   9.736792   12.319118  ...  NaN   \n",
      "2066-12-31   10.476596   12.651389   9.357551   11.902432  ...  NaN   \n",
      "2067-12-31    8.958095   12.188500   9.992642   11.931515  ...  NaN   \n",
      "2068-12-31   11.475000   11.130000   9.421509   10.913333  ...  NaN   \n",
      "2069-12-31    8.022667    9.874828   8.377547    9.420000  ...  NaN   \n",
      "2070-12-31    9.753000    9.721176   9.115536   10.148065  ...  NaN   \n",
      "2071-12-31    9.642162    9.986500  10.705965   11.788182  ...  NaN   \n",
      "2072-12-31    9.645500   10.703636   9.760444    9.811111  ...  NaN   \n",
      "2073-12-31    8.496512    9.544706   8.668846    9.673333  ...  NaN   \n",
      "2074-12-31   10.188478   14.481667   9.999074   14.420000  ...  NaN   \n",
      "2075-12-31    7.522571    9.210541   9.652745    9.624643  ...  NaN   \n",
      "2076-12-31    7.047234    7.709630   7.912308    8.555000  ...  NaN   \n",
      "2077-12-31   10.115862   10.307800  10.866078   12.336667  ...  NaN   \n",
      "2078-12-31    8.494872    9.537895   9.525510    9.665882  ...  NaN   \n",
      "\n",
      "            Unnamed: 30  Unnamed: 31  CLO  Unnamed: 33  Unnamed: 34  BEL   \n",
      "date                                                                       \n",
      "2061-12-31          NaN          NaN  NaN          NaN          NaN  NaN  \\\n",
      "2062-12-31          NaN          NaN  NaN          NaN          NaN  NaN   \n",
      "2063-12-31          NaN          NaN  NaN          NaN          NaN  NaN   \n",
      "2064-12-31          NaN          NaN  NaN          NaN          NaN  NaN   \n",
      "2065-12-31          NaN          NaN  NaN          NaN          NaN  NaN   \n",
      "2066-12-31          NaN          NaN  NaN          NaN          NaN  NaN   \n",
      "2067-12-31          NaN          NaN  NaN          NaN          NaN  NaN   \n",
      "2068-12-31          NaN          NaN  NaN          NaN          NaN  NaN   \n",
      "2069-12-31          NaN          NaN  NaN          NaN          NaN  NaN   \n",
      "2070-12-31          NaN          NaN  NaN          NaN          NaN  NaN   \n",
      "2071-12-31          NaN          NaN  NaN          NaN          NaN  NaN   \n",
      "2072-12-31          NaN          NaN  NaN          NaN          NaN  NaN   \n",
      "2073-12-31          NaN          NaN  NaN          NaN          NaN  NaN   \n",
      "2074-12-31          NaN          NaN  NaN          NaN          NaN  NaN   \n",
      "2075-12-31          NaN          NaN  NaN          NaN          NaN  NaN   \n",
      "2076-12-31          NaN          NaN  NaN          NaN          NaN  NaN   \n",
      "2077-12-31          NaN          NaN  NaN          NaN          NaN  NaN   \n",
      "2078-12-31          NaN          NaN  NaN          NaN          NaN  NaN   \n",
      "\n",
      "            Unnamed: 36  Unnamed: 37  MAL  \n",
      "date                                       \n",
      "2061-12-31          NaN          NaN  NaN  \n",
      "2062-12-31          NaN          NaN  NaN  \n",
      "2063-12-31          NaN          NaN  NaN  \n",
      "2064-12-31          NaN          NaN  NaN  \n",
      "2065-12-31          NaN          NaN  NaN  \n",
      "2066-12-31          NaN          NaN  NaN  \n",
      "2067-12-31          NaN          NaN  NaN  \n",
      "2068-12-31          NaN          NaN  NaN  \n",
      "2069-12-31          NaN          NaN  NaN  \n",
      "2070-12-31          NaN          NaN  NaN  \n",
      "2071-12-31          NaN          NaN  NaN  \n",
      "2072-12-31          NaN          NaN  NaN  \n",
      "2073-12-31          NaN          NaN  NaN  \n",
      "2074-12-31          NaN          NaN  NaN  \n",
      "2075-12-31          NaN          NaN  NaN  \n",
      "2076-12-31          NaN          NaN  NaN  \n",
      "2077-12-31          NaN          NaN  NaN  \n",
      "2078-12-31          NaN          NaN  NaN  \n",
      "\n",
      "[18 rows x 39 columns]\n"
     ]
    }
   ],
   "source": [
    "# Step 12\n",
    "yearly_data = data.resample('Y').mean()\n",
    "print(\"Yearly Downsampled Data for Each Location:\")\n",
    "print(yearly_data)"
   ]
  },
  {
   "cell_type": "code",
   "execution_count": 9,
   "id": "46b4c899",
   "metadata": {},
   "outputs": [
    {
     "name": "stdout",
     "output_type": "stream",
     "text": [
      "Monthly Downsampled Data for Each Location:\n",
      "              year  month   day  Unnamed: 3  Unnamed: 4        RPT   \n",
      "date                                                                 \n",
      "2061-10-31  2061.0   10.0  20.5   17.926250   12.380000  15.567143  \\\n",
      "2061-11-30  2061.0   11.0  20.0   14.340909    9.925625  13.765385   \n",
      "2061-12-31  2061.0   12.0  20.5   16.716667   12.789500  18.045000   \n",
      "2062-01-31     NaN    NaN   NaN         NaN         NaN        NaN   \n",
      "2062-02-28     NaN    NaN   NaN         NaN         NaN        NaN   \n",
      "...            ...    ...   ...         ...         ...        ...   \n",
      "2078-08-31     NaN    NaN   NaN         NaN         NaN        NaN   \n",
      "2078-09-30     NaN    NaN   NaN         NaN         NaN        NaN   \n",
      "2078-10-31  2078.0   10.0  20.5   13.551429    8.213000  10.777778   \n",
      "2078-11-30  2078.0   11.0  20.0   18.382353   15.230526  14.974375   \n",
      "2078-12-31  2078.0   12.0  20.5   17.079375   13.951111  14.177647   \n",
      "\n",
      "            Unnamed: 6  Unnamed: 7        VAL  Unnamed: 9  ...  MUL   \n",
      "date                                                       ...        \n",
      "2061-10-31   10.727333   13.672143  10.386500   14.828182  ...  NaN  \\\n",
      "2061-11-30    9.786000   10.561111   7.889333    8.311818  ...  NaN   \n",
      "2061-12-31    9.964000   11.992727   9.719048   14.381250  ...  NaN   \n",
      "2062-01-31         NaN         NaN        NaN         NaN  ...  NaN   \n",
      "2062-02-28         NaN         NaN        NaN         NaN  ...  NaN   \n",
      "...                ...         ...        ...         ...  ...  ...   \n",
      "2078-08-31         NaN         NaN        NaN         NaN  ...  NaN   \n",
      "2078-09-30         NaN         NaN        NaN         NaN  ...  NaN   \n",
      "2078-10-31    5.720588    8.578750   7.581667    8.122500  ...  NaN   \n",
      "2078-11-30   10.928182   10.156429  10.471875   11.777500  ...  NaN   \n",
      "2078-12-31   10.349091    9.476250  10.848667    8.737857  ...  NaN   \n",
      "\n",
      "            Unnamed: 30  Unnamed: 31  CLO  Unnamed: 33  Unnamed: 34  BEL   \n",
      "date                                                                       \n",
      "2061-10-31          NaN          NaN  NaN          NaN          NaN  NaN  \\\n",
      "2061-11-30          NaN          NaN  NaN          NaN          NaN  NaN   \n",
      "2061-12-31          NaN          NaN  NaN          NaN          NaN  NaN   \n",
      "2062-01-31          NaN          NaN  NaN          NaN          NaN  NaN   \n",
      "2062-02-28          NaN          NaN  NaN          NaN          NaN  NaN   \n",
      "...                 ...          ...  ...          ...          ...  ...   \n",
      "2078-08-31          NaN          NaN  NaN          NaN          NaN  NaN   \n",
      "2078-09-30          NaN          NaN  NaN          NaN          NaN  NaN   \n",
      "2078-10-31          NaN          NaN  NaN          NaN          NaN  NaN   \n",
      "2078-11-30          NaN          NaN  NaN          NaN          NaN  NaN   \n",
      "2078-12-31          NaN          NaN  NaN          NaN          NaN  NaN   \n",
      "\n",
      "            Unnamed: 36  Unnamed: 37  MAL  \n",
      "date                                       \n",
      "2061-10-31          NaN          NaN  NaN  \n",
      "2061-11-30          NaN          NaN  NaN  \n",
      "2061-12-31          NaN          NaN  NaN  \n",
      "2062-01-31          NaN          NaN  NaN  \n",
      "2062-02-28          NaN          NaN  NaN  \n",
      "...                 ...          ...  ...  \n",
      "2078-08-31          NaN          NaN  NaN  \n",
      "2078-09-30          NaN          NaN  NaN  \n",
      "2078-10-31          NaN          NaN  NaN  \n",
      "2078-11-30          NaN          NaN  NaN  \n",
      "2078-12-31          NaN          NaN  NaN  \n",
      "\n",
      "[207 rows x 39 columns]\n"
     ]
    }
   ],
   "source": [
    "# Step 13\n",
    "monthly_data = data.resample('M').mean()\n",
    "\n",
    "print(\"Monthly Downsampled Data for Each Location:\")\n",
    "print(monthly_data)"
   ]
  },
  {
   "cell_type": "code",
   "execution_count": 10,
   "id": "00ffb776",
   "metadata": {},
   "outputs": [
    {
     "name": "stdout",
     "output_type": "stream",
     "text": [
      "Weekly Downsampled Data for Each Location:\n",
      "              year  month   day  Unnamed: 3  Unnamed: 4        RPT   \n",
      "date                                                                 \n",
      "2061-10-16  2061.0   10.0  13.0   12.312500    9.648333  10.795000  \\\n",
      "2061-10-23  2061.0   10.0  20.0   20.212857   16.942000  15.281429   \n",
      "2061-10-30  2061.0   10.0  27.0   20.615000   11.695714  19.095000   \n",
      "2061-11-06  2061.0   10.0  31.0   13.620000   10.750000  13.000000   \n",
      "2061-11-13  2061.0   11.0  11.5   15.303333   10.960000  20.996667   \n",
      "...            ...    ...   ...         ...         ...        ...   \n",
      "2078-12-04  2078.0   11.0  29.0   14.900000    9.730000   7.355000   \n",
      "2078-12-11  2078.0   12.0  10.5   22.585000   20.855000  17.185000   \n",
      "2078-12-18  2078.0   12.0  15.0   17.438000   16.424000  12.343333   \n",
      "2078-12-25  2078.0   12.0  22.0   14.486667    9.453333  12.056667   \n",
      "2079-01-01  2078.0   12.0  28.5   16.241667   14.114000  16.070000   \n",
      "\n",
      "            Unnamed: 6  Unnamed: 7        VAL  Unnamed: 9  ...  MUL   \n",
      "date                                                       ...        \n",
      "2061-10-16    7.710000      8.6400   8.515000   10.657500  ...  NaN  \\\n",
      "2061-10-23   14.193333     18.0100  11.710000   19.450000  ...  NaN   \n",
      "2061-10-30    8.982000     13.4220  10.528333   14.226667  ...  NaN   \n",
      "2061-11-06         NaN      8.3300  11.500000         NaN  ...  NaN   \n",
      "2061-11-13   12.670000      8.7900   8.363333    9.275000  ...  NaN   \n",
      "...                ...         ...        ...         ...  ...  ...   \n",
      "2078-12-04   11.000000      3.3300   5.940000    9.590000  ...  NaN   \n",
      "2078-12-11   13.125000     16.6900  13.185000   14.020000  ...  NaN   \n",
      "2078-12-18   12.373333      7.7375  11.068333    8.070000  ...  NaN   \n",
      "2078-12-25    7.402000      9.8820   8.970000    6.322000  ...  NaN   \n",
      "2079-01-01   13.460000      7.5760  10.760000    9.617500  ...  NaN   \n",
      "\n",
      "            Unnamed: 30  Unnamed: 31  CLO  Unnamed: 33  Unnamed: 34  BEL   \n",
      "date                                                                       \n",
      "2061-10-16          NaN          NaN  NaN          NaN          NaN  NaN  \\\n",
      "2061-10-23          NaN          NaN  NaN          NaN          NaN  NaN   \n",
      "2061-10-30          NaN          NaN  NaN          NaN          NaN  NaN   \n",
      "2061-11-06          NaN          NaN  NaN          NaN          NaN  NaN   \n",
      "2061-11-13          NaN          NaN  NaN          NaN          NaN  NaN   \n",
      "...                 ...          ...  ...          ...          ...  ...   \n",
      "2078-12-04          NaN          NaN  NaN          NaN          NaN  NaN   \n",
      "2078-12-11          NaN          NaN  NaN          NaN          NaN  NaN   \n",
      "2078-12-18          NaN          NaN  NaN          NaN          NaN  NaN   \n",
      "2078-12-25          NaN          NaN  NaN          NaN          NaN  NaN   \n",
      "2079-01-01          NaN          NaN  NaN          NaN          NaN  NaN   \n",
      "\n",
      "            Unnamed: 36  Unnamed: 37  MAL  \n",
      "date                                       \n",
      "2061-10-16          NaN          NaN  NaN  \n",
      "2061-10-23          NaN          NaN  NaN  \n",
      "2061-10-30          NaN          NaN  NaN  \n",
      "2061-11-06          NaN          NaN  NaN  \n",
      "2061-11-13          NaN          NaN  NaN  \n",
      "...                 ...          ...  ...  \n",
      "2078-12-04          NaN          NaN  NaN  \n",
      "2078-12-11          NaN          NaN  NaN  \n",
      "2078-12-18          NaN          NaN  NaN  \n",
      "2078-12-25          NaN          NaN  NaN  \n",
      "2079-01-01          NaN          NaN  NaN  \n",
      "\n",
      "[899 rows x 39 columns]\n"
     ]
    }
   ],
   "source": [
    "# Step 14\n",
    "weekly_data = data.resample('W').mean()\n",
    "\n",
    "print(\"Weekly Downsampled Data for Each Location:\")\n",
    "print(weekly_data)"
   ]
  },
  {
   "cell_type": "code",
   "execution_count": 11,
   "id": "d0379eb6",
   "metadata": {},
   "outputs": [
    {
     "name": "stdout",
     "output_type": "stream",
     "text": [
      "Weekly Statistics for Windspeed Across All Locations:\n",
      "              RPT                                 VAL                     \n",
      "              min    max       mean        std    min    max       mean   \n",
      "date                                                                      \n",
      "2061-10-16  10.13  11.46  10.795000   0.940452   4.21  13.54   8.515000  \\\n",
      "2061-10-23   3.75  22.63  15.281429   7.024254   6.83  16.42  11.710000   \n",
      "2061-10-30  13.00  23.09  19.095000   4.839921   4.79  15.46  10.528333   \n",
      "2061-11-06  13.00  13.00  13.000000        NaN  11.50  11.50  11.500000   \n",
      "2061-11-13   9.87  32.71  20.996667  11.431296   6.92   9.59   8.363333   \n",
      "...           ...    ...        ...        ...    ...    ...        ...   \n",
      "2078-12-04   4.54  10.17   7.355000   3.981011   3.50   8.38   5.940000   \n",
      "2078-12-11  16.54  17.83  17.185000   0.912168  13.00  13.37  13.185000   \n",
      "2078-12-18   8.92  18.05  12.343333   3.492676   5.21  18.12  11.068333   \n",
      "2078-12-25   3.83  22.21  12.056667   9.340243   4.79  14.29   8.970000   \n",
      "2079-01-01   5.46  27.29  16.070000   7.793161   5.00  13.21  10.760000   \n",
      "\n",
      "                        ROS         ...  CLO     BEL              MAL       \n",
      "                 std    min    max  ... mean std min max mean std min max   \n",
      "date                                ...                                     \n",
      "2061-10-16  4.166009   3.67  12.71  ...  NaN NaN NaN NaN  NaN NaN NaN NaN  \\\n",
      "2061-10-23  3.264772  13.21  18.00  ...  NaN NaN NaN NaN  NaN NaN NaN NaN   \n",
      "2061-10-30  4.352450  15.37  15.37  ...  NaN NaN NaN NaN  NaN NaN NaN NaN   \n",
      "2061-11-06       NaN  15.25  15.25  ...  NaN NaN NaN NaN  NaN NaN NaN NaN   \n",
      "2061-11-13  1.348122   5.17  10.04  ...  NaN NaN NaN NaN  NaN NaN NaN NaN   \n",
      "...              ...    ...    ...  ...  ...  ..  ..  ..  ...  ..  ..  ..   \n",
      "2078-12-04  3.450681   8.83   8.83  ...  NaN NaN NaN NaN  NaN NaN NaN NaN   \n",
      "2078-12-11  0.261630  15.54  16.21  ...  NaN NaN NaN NaN  NaN NaN NaN NaN   \n",
      "2078-12-18  5.068954   9.08  13.75  ...  NaN NaN NaN NaN  NaN NaN NaN NaN   \n",
      "2078-12-25  4.851515   3.50  17.16  ...  NaN NaN NaN NaN  NaN NaN NaN NaN   \n",
      "2079-01-01  3.867928   4.29  19.17  ...  NaN NaN NaN NaN  NaN NaN NaN NaN   \n",
      "\n",
      "                     \n",
      "           mean std  \n",
      "date                 \n",
      "2061-10-16  NaN NaN  \n",
      "2061-10-23  NaN NaN  \n",
      "2061-10-30  NaN NaN  \n",
      "2061-11-06  NaN NaN  \n",
      "2061-11-13  NaN NaN  \n",
      "...         ...  ..  \n",
      "2078-12-04  NaN NaN  \n",
      "2078-12-11  NaN NaN  \n",
      "2078-12-18  NaN NaN  \n",
      "2078-12-25  NaN NaN  \n",
      "2079-01-01  NaN NaN  \n",
      "\n",
      "[899 rows x 48 columns]\n"
     ]
    }
   ],
   "source": [
    "# Step 15\n",
    "weekly_stats = data.resample('W').agg({\n",
    "    'RPT': ['min', 'max', 'mean', 'std'],\n",
    "    'VAL': ['min', 'max', 'mean', 'std'],\n",
    "    'ROS': ['min', 'max', 'mean', 'std'],\n",
    "    'KIL': ['min', 'max', 'mean', 'std'],\n",
    "    'SHA': ['min', 'max', 'mean', 'std'],\n",
    "    'BIR': ['min', 'max', 'mean', 'std'],\n",
    "    'DUB': ['min', 'max', 'mean', 'std'],\n",
    "    'CLA': ['min', 'max', 'mean', 'std'],\n",
    "    'MUL': ['min', 'max', 'mean', 'std'],\n",
    "    'CLO': ['min', 'max', 'mean', 'std'],\n",
    "    'BEL': ['min', 'max', 'mean', 'std'],\n",
    "    'MAL': ['min', 'max', 'mean', 'std']\n",
    "})\n",
    "\n",
    "print(\"Weekly Statistics for Windspeed Across All Locations:\")\n",
    "print(weekly_stats)"
   ]
  },
  {
   "cell_type": "markdown",
   "id": "6f580cfc",
   "metadata": {},
   "source": [
    "## Question 5"
   ]
  },
  {
   "cell_type": "raw",
   "id": "f5b8d19c",
   "metadata": {},
   "source": [
    "Step 1. Import the necessary libraries\n",
    "Step 2. Import the dataset from \"https://raw.githubusercontent.com/justmarkham/DAT8/master/data/chipotle.tsv\".\n",
    "Step 3. Assign it to a variable called chipo.\n",
    "Step 4. See the first 10 entries\n",
    "Step 5. What is the number of observations in the dataset?\n",
    "Step 6. What is the number of columns in the dataset?\n",
    "Step 7. Print the name of all the columns.\n",
    "Step 8. How is the dataset indexed?\n",
    "Step 9. Which was the most-ordered item?\n",
    "Step 10. For the most-ordered item, how many items were ordered?\n",
    "Step 11. What was the most ordered item in the choice_description column?\n",
    "Step 12. How many items were orderd in total?\n",
    "Step 13.\n",
    "• Turn the item price into a float\n",
    "• Check the item price type\n",
    "• Create a lambda function and change the type of item price\n",
    "• Check the item price type\n",
    "Step 14. How much was the revenue for the period in the dataset?\n",
    "Step 15. How many orders were made in the period?\n",
    "Step 16. What is the average revenue amount per order?\n",
    "Step 17. How many different items are sold?\n"
   ]
  },
  {
   "cell_type": "markdown",
   "id": "9b7cbd48",
   "metadata": {},
   "source": [
    "## Step 2. Import the dataset Step 3. Assign it to a variable called chipo. Step 4. See the first 10 entries"
   ]
  },
  {
   "cell_type": "code",
   "execution_count": 10,
   "id": "8160358c",
   "metadata": {},
   "outputs": [
    {
     "data": {
      "text/html": [
       "<div>\n",
       "<style scoped>\n",
       "    .dataframe tbody tr th:only-of-type {\n",
       "        vertical-align: middle;\n",
       "    }\n",
       "\n",
       "    .dataframe tbody tr th {\n",
       "        vertical-align: top;\n",
       "    }\n",
       "\n",
       "    .dataframe thead th {\n",
       "        text-align: right;\n",
       "    }\n",
       "</style>\n",
       "<table border=\"1\" class=\"dataframe\">\n",
       "  <thead>\n",
       "    <tr style=\"text-align: right;\">\n",
       "      <th></th>\n",
       "      <th>order_id</th>\n",
       "      <th>quantity</th>\n",
       "      <th>item_name</th>\n",
       "      <th>choice_description</th>\n",
       "      <th>item_price</th>\n",
       "    </tr>\n",
       "  </thead>\n",
       "  <tbody>\n",
       "    <tr>\n",
       "      <th>0</th>\n",
       "      <td>1</td>\n",
       "      <td>1</td>\n",
       "      <td>Chips and Fresh Tomato Salsa</td>\n",
       "      <td>NaN</td>\n",
       "      <td>$2.39</td>\n",
       "    </tr>\n",
       "    <tr>\n",
       "      <th>1</th>\n",
       "      <td>1</td>\n",
       "      <td>1</td>\n",
       "      <td>Izze</td>\n",
       "      <td>[Clementine]</td>\n",
       "      <td>$3.39</td>\n",
       "    </tr>\n",
       "    <tr>\n",
       "      <th>2</th>\n",
       "      <td>1</td>\n",
       "      <td>1</td>\n",
       "      <td>Nantucket Nectar</td>\n",
       "      <td>[Apple]</td>\n",
       "      <td>$3.39</td>\n",
       "    </tr>\n",
       "    <tr>\n",
       "      <th>3</th>\n",
       "      <td>1</td>\n",
       "      <td>1</td>\n",
       "      <td>Chips and Tomatillo-Green Chili Salsa</td>\n",
       "      <td>NaN</td>\n",
       "      <td>$2.39</td>\n",
       "    </tr>\n",
       "    <tr>\n",
       "      <th>4</th>\n",
       "      <td>2</td>\n",
       "      <td>2</td>\n",
       "      <td>Chicken Bowl</td>\n",
       "      <td>[Tomatillo-Red Chili Salsa (Hot), [Black Beans...</td>\n",
       "      <td>$16.98</td>\n",
       "    </tr>\n",
       "    <tr>\n",
       "      <th>5</th>\n",
       "      <td>3</td>\n",
       "      <td>1</td>\n",
       "      <td>Chicken Bowl</td>\n",
       "      <td>[Fresh Tomato Salsa (Mild), [Rice, Cheese, Sou...</td>\n",
       "      <td>$10.98</td>\n",
       "    </tr>\n",
       "    <tr>\n",
       "      <th>6</th>\n",
       "      <td>3</td>\n",
       "      <td>1</td>\n",
       "      <td>Side of Chips</td>\n",
       "      <td>NaN</td>\n",
       "      <td>$1.69</td>\n",
       "    </tr>\n",
       "    <tr>\n",
       "      <th>7</th>\n",
       "      <td>4</td>\n",
       "      <td>1</td>\n",
       "      <td>Steak Burrito</td>\n",
       "      <td>[Tomatillo Red Chili Salsa, [Fajita Vegetables...</td>\n",
       "      <td>$11.75</td>\n",
       "    </tr>\n",
       "    <tr>\n",
       "      <th>8</th>\n",
       "      <td>4</td>\n",
       "      <td>1</td>\n",
       "      <td>Steak Soft Tacos</td>\n",
       "      <td>[Tomatillo Green Chili Salsa, [Pinto Beans, Ch...</td>\n",
       "      <td>$9.25</td>\n",
       "    </tr>\n",
       "    <tr>\n",
       "      <th>9</th>\n",
       "      <td>5</td>\n",
       "      <td>1</td>\n",
       "      <td>Steak Burrito</td>\n",
       "      <td>[Fresh Tomato Salsa, [Rice, Black Beans, Pinto...</td>\n",
       "      <td>$9.25</td>\n",
       "    </tr>\n",
       "  </tbody>\n",
       "</table>\n",
       "</div>"
      ],
      "text/plain": [
       "   order_id  quantity                              item_name   \n",
       "0         1         1           Chips and Fresh Tomato Salsa  \\\n",
       "1         1         1                                   Izze   \n",
       "2         1         1                       Nantucket Nectar   \n",
       "3         1         1  Chips and Tomatillo-Green Chili Salsa   \n",
       "4         2         2                           Chicken Bowl   \n",
       "5         3         1                           Chicken Bowl   \n",
       "6         3         1                          Side of Chips   \n",
       "7         4         1                          Steak Burrito   \n",
       "8         4         1                       Steak Soft Tacos   \n",
       "9         5         1                          Steak Burrito   \n",
       "\n",
       "                                  choice_description item_price  \n",
       "0                                                NaN     $2.39   \n",
       "1                                       [Clementine]     $3.39   \n",
       "2                                            [Apple]     $3.39   \n",
       "3                                                NaN     $2.39   \n",
       "4  [Tomatillo-Red Chili Salsa (Hot), [Black Beans...    $16.98   \n",
       "5  [Fresh Tomato Salsa (Mild), [Rice, Cheese, Sou...    $10.98   \n",
       "6                                                NaN     $1.69   \n",
       "7  [Tomatillo Red Chili Salsa, [Fajita Vegetables...    $11.75   \n",
       "8  [Tomatillo Green Chili Salsa, [Pinto Beans, Ch...     $9.25   \n",
       "9  [Fresh Tomato Salsa, [Rice, Black Beans, Pinto...     $9.25   "
      ]
     },
     "execution_count": 10,
     "metadata": {},
     "output_type": "execute_result"
    }
   ],
   "source": [
    "#step 2, 3, 4\n",
    "chipo = pd.read_table(\"https://raw.githubusercontent.com/justmarkham/DAT8/master/data/chipotle.tsv\")\n",
    "chipo.head(10)"
   ]
  },
  {
   "cell_type": "markdown",
   "id": "0ad2c303",
   "metadata": {},
   "source": [
    "## Step 5. What is the number of observations in the dataset?"
   ]
  },
  {
   "cell_type": "code",
   "execution_count": 15,
   "id": "2a597562",
   "metadata": {},
   "outputs": [
    {
     "name": "stdout",
     "output_type": "stream",
     "text": [
      "<class 'pandas.core.frame.DataFrame'>\n",
      "RangeIndex: 4622 entries, 0 to 4621\n",
      "Data columns (total 5 columns):\n",
      " #   Column              Non-Null Count  Dtype \n",
      "---  ------              --------------  ----- \n",
      " 0   order_id            4622 non-null   int64 \n",
      " 1   quantity            4622 non-null   int64 \n",
      " 2   item_name           4622 non-null   object\n",
      " 3   choice_description  3376 non-null   object\n",
      " 4   item_price          4622 non-null   object\n",
      "dtypes: int64(2), object(3)\n",
      "memory usage: 180.7+ KB\n"
     ]
    }
   ],
   "source": [
    "#step 5\n",
    "chipo.info()"
   ]
  },
  {
   "cell_type": "markdown",
   "id": "4e8641fd",
   "metadata": {},
   "source": [
    "## Step 6. What is the number of columns in the dataset?"
   ]
  },
  {
   "cell_type": "code",
   "execution_count": 16,
   "id": "b1acfb97",
   "metadata": {},
   "outputs": [
    {
     "data": {
      "text/plain": [
       "5"
      ]
     },
     "execution_count": 16,
     "metadata": {},
     "output_type": "execute_result"
    }
   ],
   "source": [
    "#step 6\n",
    "len(chipo.columns)"
   ]
  },
  {
   "cell_type": "markdown",
   "id": "304a4eaf",
   "metadata": {},
   "source": [
    "## Step 7. Print the name of all the columns."
   ]
  },
  {
   "cell_type": "code",
   "execution_count": 61,
   "id": "d3b02250",
   "metadata": {},
   "outputs": [
    {
     "data": {
      "text/plain": [
       "Index(['order_id', 'quantity', 'item_name', 'choice_description',\n",
       "       'item_price'],\n",
       "      dtype='object')"
      ]
     },
     "execution_count": 61,
     "metadata": {},
     "output_type": "execute_result"
    }
   ],
   "source": [
    "#step 7\n",
    "chipo.columns"
   ]
  },
  {
   "cell_type": "markdown",
   "id": "e4a9e6e0",
   "metadata": {},
   "source": [
    "## Step 8. How is the dataset indexed?"
   ]
  },
  {
   "cell_type": "code",
   "execution_count": 63,
   "id": "da9a778f",
   "metadata": {},
   "outputs": [
    {
     "data": {
      "text/plain": [
       "RangeIndex(start=0, stop=4622, step=1)"
      ]
     },
     "execution_count": 63,
     "metadata": {},
     "output_type": "execute_result"
    }
   ],
   "source": [
    "#step 8\n",
    "chipo.index"
   ]
  },
  {
   "cell_type": "markdown",
   "id": "d426730e",
   "metadata": {},
   "source": [
    "## Step 9. Which was the most-ordered item?"
   ]
  },
  {
   "cell_type": "code",
   "execution_count": 14,
   "id": "e144870d",
   "metadata": {},
   "outputs": [
    {
     "data": {
      "text/plain": [
       "item_name\n",
       "Chicken Bowl    726\n",
       "Name: count, dtype: int64"
      ]
     },
     "execution_count": 14,
     "metadata": {},
     "output_type": "execute_result"
    }
   ],
   "source": [
    "#step 9\n",
    "chipo['item_name'].value_counts()[:1]"
   ]
  },
  {
   "cell_type": "markdown",
   "id": "2dfc47d3",
   "metadata": {},
   "source": [
    "## Step 10. For the most-ordered item, how many items were ordered?"
   ]
  },
  {
   "cell_type": "code",
   "execution_count": 15,
   "id": "ad72b019",
   "metadata": {},
   "outputs": [
    {
     "data": {
      "text/plain": [
       "choice_description\n",
       "[Diet Coke]    134\n",
       "Name: count, dtype: int64"
      ]
     },
     "execution_count": 15,
     "metadata": {},
     "output_type": "execute_result"
    }
   ],
   "source": [
    "#step 10\n",
    "chipo['choice_description'].value_counts()[:1]"
   ]
  },
  {
   "cell_type": "markdown",
   "id": "92b9f275",
   "metadata": {},
   "source": [
    "## Step 11. What was the most ordered item in the choice_description column?"
   ]
  },
  {
   "cell_type": "code",
   "execution_count": 16,
   "id": "6d6813ea",
   "metadata": {},
   "outputs": [
    {
     "data": {
      "text/plain": [
       "4622"
      ]
     },
     "execution_count": 16,
     "metadata": {},
     "output_type": "execute_result"
    }
   ],
   "source": [
    "#step 11\n",
    "chipo['item_name'].value_counts().sum()"
   ]
  },
  {
   "cell_type": "markdown",
   "id": "eb620e6b",
   "metadata": {},
   "source": [
    "## Step 12. How many items were orderd in total?"
   ]
  },
  {
   "cell_type": "code",
   "execution_count": 17,
   "id": "406c986e",
   "metadata": {},
   "outputs": [
    {
     "data": {
      "text/plain": [
       "50"
      ]
     },
     "execution_count": 17,
     "metadata": {},
     "output_type": "execute_result"
    }
   ],
   "source": [
    "#step 12\n",
    "len(chipo.item_name.unique())"
   ]
  },
  {
   "cell_type": "markdown",
   "id": "6bfa3445",
   "metadata": {},
   "source": [
    "## Step 13.• Turn the item price into a float • Check the item price type• Create a lambda function and change the type of item price • Check the item price type\n"
   ]
  },
  {
   "cell_type": "code",
   "execution_count": 12,
   "id": "e9c1edd7",
   "metadata": {},
   "outputs": [
    {
     "name": "stdout",
     "output_type": "stream",
     "text": [
      "Item price type after conversion:\n",
      "float64\n",
      "\n",
      "\n"
     ]
    }
   ],
   "source": [
    "# Step 13.1: Convert item price to float\n",
    "chipo['item_price'] = chipo['item_price'].apply(lambda x: float(x[1:]))\n",
    "\n",
    "# Step 13.2: Checking item price type after conversion\n",
    "print(\"Item price type after conversion:\")\n",
    "print(chipo['item_price'].dtype)\n",
    "print(\"\\n\")"
   ]
  },
  {
   "cell_type": "markdown",
   "id": "0c305824",
   "metadata": {},
   "source": [
    "## Step 14. How much was the revenue for the period in the dataset?"
   ]
  },
  {
   "cell_type": "code",
   "execution_count": 13,
   "id": "7b357343",
   "metadata": {},
   "outputs": [
    {
     "name": "stdout",
     "output_type": "stream",
     "text": [
      "Total revenue for the period: 39237.02\n",
      "\n",
      "\n"
     ]
    }
   ],
   "source": [
    "# Step 14: How much was the revenue for the period in the dataset?\n",
    "revenue = (chipo['quantity'] * chipo['item_price']).sum()\n",
    "print(\"Total revenue for the period:\", revenue)\n",
    "print(\"\\n\")"
   ]
  },
  {
   "cell_type": "markdown",
   "id": "68ebfd53",
   "metadata": {},
   "source": [
    "## Step 15. How many orders were made in the period?"
   ]
  },
  {
   "cell_type": "code",
   "execution_count": 18,
   "id": "a734513a",
   "metadata": {},
   "outputs": [
    {
     "data": {
      "text/plain": [
       "1834"
      ]
     },
     "execution_count": 18,
     "metadata": {},
     "output_type": "execute_result"
    }
   ],
   "source": [
    "#step 15\n",
    "chipo['order_id'].max()"
   ]
  },
  {
   "cell_type": "markdown",
   "id": "e8900dfd",
   "metadata": {},
   "source": [
    "## Step 16. What is the average revenue amount per order?"
   ]
  },
  {
   "cell_type": "code",
   "execution_count": 19,
   "id": "6f12c967",
   "metadata": {},
   "outputs": [
    {
     "data": {
      "text/html": [
       "<div>\n",
       "<style scoped>\n",
       "    .dataframe tbody tr th:only-of-type {\n",
       "        vertical-align: middle;\n",
       "    }\n",
       "\n",
       "    .dataframe tbody tr th {\n",
       "        vertical-align: top;\n",
       "    }\n",
       "\n",
       "    .dataframe thead tr th {\n",
       "        text-align: left;\n",
       "    }\n",
       "\n",
       "    .dataframe thead tr:last-of-type th {\n",
       "        text-align: right;\n",
       "    }\n",
       "</style>\n",
       "<table border=\"1\" class=\"dataframe\">\n",
       "  <thead>\n",
       "    <tr>\n",
       "      <th></th>\n",
       "      <th>item_price</th>\n",
       "    </tr>\n",
       "    <tr>\n",
       "      <th></th>\n",
       "      <th>mean</th>\n",
       "    </tr>\n",
       "    <tr>\n",
       "      <th>order_id</th>\n",
       "      <th></th>\n",
       "    </tr>\n",
       "  </thead>\n",
       "  <tbody>\n",
       "    <tr>\n",
       "      <th>1</th>\n",
       "      <td>2.890000</td>\n",
       "    </tr>\n",
       "    <tr>\n",
       "      <th>2</th>\n",
       "      <td>16.980000</td>\n",
       "    </tr>\n",
       "    <tr>\n",
       "      <th>3</th>\n",
       "      <td>6.335000</td>\n",
       "    </tr>\n",
       "    <tr>\n",
       "      <th>4</th>\n",
       "      <td>10.500000</td>\n",
       "    </tr>\n",
       "    <tr>\n",
       "      <th>5</th>\n",
       "      <td>6.850000</td>\n",
       "    </tr>\n",
       "    <tr>\n",
       "      <th>...</th>\n",
       "      <td>...</td>\n",
       "    </tr>\n",
       "    <tr>\n",
       "      <th>1830</th>\n",
       "      <td>11.500000</td>\n",
       "    </tr>\n",
       "    <tr>\n",
       "      <th>1831</th>\n",
       "      <td>4.300000</td>\n",
       "    </tr>\n",
       "    <tr>\n",
       "      <th>1832</th>\n",
       "      <td>6.600000</td>\n",
       "    </tr>\n",
       "    <tr>\n",
       "      <th>1833</th>\n",
       "      <td>11.750000</td>\n",
       "    </tr>\n",
       "    <tr>\n",
       "      <th>1834</th>\n",
       "      <td>9.583333</td>\n",
       "    </tr>\n",
       "  </tbody>\n",
       "</table>\n",
       "<p>1834 rows × 1 columns</p>\n",
       "</div>"
      ],
      "text/plain": [
       "         item_price\n",
       "               mean\n",
       "order_id           \n",
       "1          2.890000\n",
       "2         16.980000\n",
       "3          6.335000\n",
       "4         10.500000\n",
       "5          6.850000\n",
       "...             ...\n",
       "1830      11.500000\n",
       "1831       4.300000\n",
       "1832       6.600000\n",
       "1833      11.750000\n",
       "1834       9.583333\n",
       "\n",
       "[1834 rows x 1 columns]"
      ]
     },
     "execution_count": 19,
     "metadata": {},
     "output_type": "execute_result"
    }
   ],
   "source": [
    "#step 16\n",
    "chipo.groupby('order_id').agg({'item_price': ['mean']})"
   ]
  },
  {
   "cell_type": "markdown",
   "id": "6b56f5a2",
   "metadata": {},
   "source": [
    "## Step 17. How many different items are sold?"
   ]
  },
  {
   "cell_type": "code",
   "execution_count": 20,
   "id": "466096f7",
   "metadata": {},
   "outputs": [
    {
     "data": {
      "text/plain": [
       "50"
      ]
     },
     "execution_count": 20,
     "metadata": {},
     "output_type": "execute_result"
    }
   ],
   "source": [
    "#step 17\n",
    "new_list = chipo['item_name'].tolist()\n",
    "new_set = set(new_list)\n",
    "len(new_set)"
   ]
  },
  {
   "cell_type": "markdown",
   "id": "e9be3c18",
   "metadata": {},
   "source": [
    "## Question 6 "
   ]
  },
  {
   "cell_type": "raw",
   "id": "88f49f67",
   "metadata": {},
   "source": [
    "Create a line plot showing the number of marriages and divorces per capita in the\n",
    "U.S. between 1867 and 2014. Label both lines and show the legend.\n",
    "Don't forget to label your axes!\n",
    "File - us-marriages-divorces-1867-2014.csv"
   ]
  },
  {
   "cell_type": "code",
   "execution_count": 28,
   "id": "4d1bfe8b",
   "metadata": {},
   "outputs": [],
   "source": [
    "%matplotlib inline\n",
    "import pandas as pd\n",
    "import matplotlib.pyplot as plt"
   ]
  },
  {
   "cell_type": "code",
   "execution_count": 31,
   "id": "2f83dd81",
   "metadata": {},
   "outputs": [
    {
     "data": {
      "text/html": [
       "<div>\n",
       "<style scoped>\n",
       "    .dataframe tbody tr th:only-of-type {\n",
       "        vertical-align: middle;\n",
       "    }\n",
       "\n",
       "    .dataframe tbody tr th {\n",
       "        vertical-align: top;\n",
       "    }\n",
       "\n",
       "    .dataframe thead th {\n",
       "        text-align: right;\n",
       "    }\n",
       "</style>\n",
       "<table border=\"1\" class=\"dataframe\">\n",
       "  <thead>\n",
       "    <tr style=\"text-align: right;\">\n",
       "      <th></th>\n",
       "      <th>Year</th>\n",
       "      <th>Marriages</th>\n",
       "      <th>Divorces</th>\n",
       "      <th>Population</th>\n",
       "      <th>Marriages_per_1000</th>\n",
       "      <th>Divorces_per_1000</th>\n",
       "    </tr>\n",
       "  </thead>\n",
       "  <tbody>\n",
       "    <tr>\n",
       "      <th>0</th>\n",
       "      <td>1867</td>\n",
       "      <td>357000.0</td>\n",
       "      <td>10000.0</td>\n",
       "      <td>36970000</td>\n",
       "      <td>9.7</td>\n",
       "      <td>0.3</td>\n",
       "    </tr>\n",
       "    <tr>\n",
       "      <th>1</th>\n",
       "      <td>1868</td>\n",
       "      <td>345000.0</td>\n",
       "      <td>10000.0</td>\n",
       "      <td>37885000</td>\n",
       "      <td>9.1</td>\n",
       "      <td>0.3</td>\n",
       "    </tr>\n",
       "    <tr>\n",
       "      <th>2</th>\n",
       "      <td>1869</td>\n",
       "      <td>348000.0</td>\n",
       "      <td>11000.0</td>\n",
       "      <td>38870000</td>\n",
       "      <td>9.0</td>\n",
       "      <td>0.3</td>\n",
       "    </tr>\n",
       "    <tr>\n",
       "      <th>3</th>\n",
       "      <td>1870</td>\n",
       "      <td>352000.0</td>\n",
       "      <td>11000.0</td>\n",
       "      <td>39905000</td>\n",
       "      <td>8.8</td>\n",
       "      <td>0.3</td>\n",
       "    </tr>\n",
       "    <tr>\n",
       "      <th>4</th>\n",
       "      <td>1871</td>\n",
       "      <td>359000.0</td>\n",
       "      <td>12000.0</td>\n",
       "      <td>41010000</td>\n",
       "      <td>8.8</td>\n",
       "      <td>0.3</td>\n",
       "    </tr>\n",
       "    <tr>\n",
       "      <th>...</th>\n",
       "      <td>...</td>\n",
       "      <td>...</td>\n",
       "      <td>...</td>\n",
       "      <td>...</td>\n",
       "      <td>...</td>\n",
       "      <td>...</td>\n",
       "    </tr>\n",
       "    <tr>\n",
       "      <th>140</th>\n",
       "      <td>2007</td>\n",
       "      <td>2197000.0</td>\n",
       "      <td>856000.0</td>\n",
       "      <td>301696000</td>\n",
       "      <td>7.3</td>\n",
       "      <td>2.8</td>\n",
       "    </tr>\n",
       "    <tr>\n",
       "      <th>141</th>\n",
       "      <td>2008</td>\n",
       "      <td>2157000.0</td>\n",
       "      <td>844000.0</td>\n",
       "      <td>304543000</td>\n",
       "      <td>7.1</td>\n",
       "      <td>2.8</td>\n",
       "    </tr>\n",
       "    <tr>\n",
       "      <th>142</th>\n",
       "      <td>2009</td>\n",
       "      <td>2080000.0</td>\n",
       "      <td>840000.0</td>\n",
       "      <td>307240000</td>\n",
       "      <td>6.8</td>\n",
       "      <td>2.7</td>\n",
       "    </tr>\n",
       "    <tr>\n",
       "      <th>143</th>\n",
       "      <td>2010</td>\n",
       "      <td>2096000.0</td>\n",
       "      <td>872000.0</td>\n",
       "      <td>309776000</td>\n",
       "      <td>6.8</td>\n",
       "      <td>2.8</td>\n",
       "    </tr>\n",
       "    <tr>\n",
       "      <th>144</th>\n",
       "      <td>2011</td>\n",
       "      <td>2118000.0</td>\n",
       "      <td>877000.0</td>\n",
       "      <td>312034000</td>\n",
       "      <td>6.8</td>\n",
       "      <td>2.8</td>\n",
       "    </tr>\n",
       "  </tbody>\n",
       "</table>\n",
       "<p>145 rows × 6 columns</p>\n",
       "</div>"
      ],
      "text/plain": [
       "     Year  Marriages  Divorces  Population  Marriages_per_1000   \n",
       "0    1867   357000.0   10000.0    36970000                 9.7  \\\n",
       "1    1868   345000.0   10000.0    37885000                 9.1   \n",
       "2    1869   348000.0   11000.0    38870000                 9.0   \n",
       "3    1870   352000.0   11000.0    39905000                 8.8   \n",
       "4    1871   359000.0   12000.0    41010000                 8.8   \n",
       "..    ...        ...       ...         ...                 ...   \n",
       "140  2007  2197000.0  856000.0   301696000                 7.3   \n",
       "141  2008  2157000.0  844000.0   304543000                 7.1   \n",
       "142  2009  2080000.0  840000.0   307240000                 6.8   \n",
       "143  2010  2096000.0  872000.0   309776000                 6.8   \n",
       "144  2011  2118000.0  877000.0   312034000                 6.8   \n",
       "\n",
       "     Divorces_per_1000  \n",
       "0                  0.3  \n",
       "1                  0.3  \n",
       "2                  0.3  \n",
       "3                  0.3  \n",
       "4                  0.3  \n",
       "..                 ...  \n",
       "140                2.8  \n",
       "141                2.8  \n",
       "142                2.7  \n",
       "143                2.8  \n",
       "144                2.8  \n",
       "\n",
       "[145 rows x 6 columns]"
      ]
     },
     "execution_count": 31,
     "metadata": {},
     "output_type": "execute_result"
    }
   ],
   "source": [
    "us_mar_div = pd.read_csv(r\"us-marriages-divorces-1867-2014.csv\")\n",
    "us_mar_div.sort_values('Year')"
   ]
  },
  {
   "cell_type": "code",
   "execution_count": 35,
   "id": "494b41a2",
   "metadata": {},
   "outputs": [
    {
     "data": {
      "text/plain": [
       "Text(0, 0.5, 'Marraiges & Divorcers per capita')"
      ]
     },
     "execution_count": 35,
     "metadata": {},
     "output_type": "execute_result"
    },
    {
     "data": {
      "image/png": "[encoded data removed]",
      "text/plain": [
       "<Figure size 640x480 with 1 Axes>"
      ]
     },
     "metadata": {},
     "output_type": "display_data"
    }
   ],
   "source": [
    "ax=us_mar_div.plot(x='Year',y=['Marriages_per_1000','Divorces_per_1000'])\n",
    "ax.set_xlabel('Year')\n",
    "ax.set_ylabel('Marraiges & Divorcers per capita')\n"
   ]
  },
  {
   "cell_type": "markdown",
   "id": "e3ef7d69",
   "metadata": {},
   "source": [
    "## Question 7 "
   ]
  },
  {
   "cell_type": "raw",
   "id": "e66ed4af",
   "metadata": {},
   "source": [
    "Create a vertical bar chart comparing the number of marriages and divorces per\n",
    "capita in the U.S. between 1900, 1950, and 2000.\n",
    "Don't forget to label your axes!"
   ]
  },
  {
   "cell_type": "code",
   "execution_count": 12,
   "id": "c01a6f83",
   "metadata": {},
   "outputs": [
    {
     "data": {
      "image/png": "[encoded data removed]",
      "text/plain": [
       "<Figure size 1200x800 with 1 Axes>"
      ]
     },
     "metadata": {},
     "output_type": "display_data"
    }
   ],
   "source": [
    "import pandas as pd\n",
    "import matplotlib.pyplot as plt\n",
    "\n",
    "# Load and prepare data\n",
    "data = pd.read_csv('us-marriages-divorces-1867-2014.csv')\n",
    "years = [1900, 1950, 2000]\n",
    "data = data[data['Year'].isin(years)]\n",
    "\n",
    "# Plot \n",
    "fig, ax = plt.subplots(figsize=(12, 8))\n",
    "\n",
    "\n",
    "# Calculate bar width \n",
    "bar_width = 12\n",
    "\n",
    "# Plot bars\n",
    "ax.bar(data['Year'] - bar_width/2, data['Marriages_per_1000'],  \n",
    "       width=bar_width, color='salmon', \n",
    "       label='Marriages')\n",
    "\n",
    "ax.bar(data['Year'] + bar_width/2, data['Divorces_per_1000'], \n",
    "       width=bar_width, color='darkgreen',\n",
    "       label='Divorces')\n",
    "       \n",
    "# Final touches       \n",
    "ax.set_ylabel('Rate per 1000 people')\n",
    "ax.set_title('Marriage and Divorce Rates')\n",
    "ax.legend()\n",
    "plt.tight_layout()\n",
    "plt.savefig('rates.png', dpi=120)\n",
    "\n"
   ]
  },
  {
   "cell_type": "code",
   "execution_count": null,
   "id": "9929dccb",
   "metadata": {},
   "outputs": [],
   "source": []
  },
  {
   "cell_type": "markdown",
   "id": "89852ddc",
   "metadata": {},
   "source": [
    "## Question 8"
   ]
  },
  {
   "cell_type": "raw",
   "id": "9261252c",
   "metadata": {},
   "source": [
    "Create a horizontal bar chart that compares the deadliest actors in Hollywood. Sort\n",
    "the actors by their kill count and label each bar with the corresponding actor's name.\n",
    "Don't forget to label your axes!\n",
    "File used - actor_kill_counts.csv"
   ]
  },
  {
   "cell_type": "code",
   "execution_count": 46,
   "id": "6f658923",
   "metadata": {},
   "outputs": [
    {
     "data": {
      "image/png": "[encoded data removed]",
      "text/plain": [
       "<Figure size 1000x800 with 1 Axes>"
      ]
     },
     "metadata": {},
     "output_type": "display_data"
    }
   ],
   "source": [
    "import pandas as pd\n",
    "import matplotlib.pyplot as plt\n",
    "import seaborn as sns\n",
    "\n",
    "file_path = \"actor_kill_counts.csv\"\n",
    "data = pd.read_csv(file_path)\n",
    "\n",
    "sorted_data = data.sort_values(by='Count', ascending=True)\n",
    "\n",
    "custom_palette = sns.color_palette(\"coolwarm\", n_colors=len(sorted_data))\n",
    "\n",
    "plt.figure(figsize=(10, 8))  # Set the figure size\n",
    "sns.barplot(x='Count', y='Actor', data=sorted_data, palette=custom_palette)\n",
    "\n",
    "for index, value in enumerate(sorted_data['Count']):\n",
    "    plt.text(value, index, f\"{value:,}\", ha='left', va='center', fontweight='bold', fontsize=10)\n",
    "\n",
    "plt.xlabel('Kill Count', fontweight='bold', fontsize=12)  # X-axis label\n",
    "plt.ylabel('Actor', fontweight='bold', fontsize=12)  # Y-axis label\n",
    "plt.title('Deadliest Actors in Hollywood', fontweight='bold', fontsize=14) \n",
    "\n",
    "plt.grid(axis='x', linestyle='--', alpha=0.7)\n",
    "sns.despine() \n",
    "\n",
    "plt.tight_layout()\n",
    "plt.show()\n"
   ]
  },
  {
   "cell_type": "markdown",
   "id": "f34204e1",
   "metadata": {},
   "source": [
    "## Question 9"
   ]
  },
  {
   "cell_type": "raw",
   "id": "73dd598b",
   "metadata": {},
   "source": [
    "Create a pie chart showing the fraction of all Roman Emperors that were\n",
    "assassinated.\n",
    "Make sure that the pie chart is an even circle, labels the categories, and shows the\n",
    "percentage breakdown of the categories.\n",
    "File used - roman-emperor-reigns.csv"
   ]
  },
  {
   "cell_type": "code",
   "execution_count": 47,
   "id": "ee809228",
   "metadata": {},
   "outputs": [
    {
     "data": {
      "image/png": "[encoded data removed]",
      "text/plain": [
       "<Figure size 800x800 with 1 Axes>"
      ]
     },
     "metadata": {},
     "output_type": "display_data"
    }
   ],
   "source": [
    "import pandas as pd\n",
    "import matplotlib.pyplot as plt\n",
    "import seaborn as sns\n",
    "\n",
    "file_path = \"roman-emperor-reigns.csv\"\n",
    "data = pd.read_csv(file_path)\n",
    "\n",
    "assassinated_emperors = data[data['Cause_of_Death'] == 'Assassinated']\n",
    "total_emperors = len(data)\n",
    "assassinated_count = len(assassinated_emperors)\n",
    "\n",
    "percentage_assassinated = (assassinated_count / total_emperors) * 100\n",
    "\n",
    "custom_palette = sns.color_palette(\"Set3\", n_colors=2)\n",
    "\n",
    "plt.figure(figsize=(8, 8))  # Set the figure size\n",
    "plt.title('Fraction of Roman Emperors by Cause of Death', fontweight='bold')\n",
    "\n",
    "plt.pie([assassinated_count, total_emperors - assassinated_count], \n",
    "        labels=['Assassinated', 'Other Causes'], colors=custom_palette,\n",
    "        autopct='%1.1f%%', startangle=140, textprops={'weight': 'bold'},\n",
    "        wedgeprops={'linewidth': 1, 'edgecolor': 'white'})  \n",
    "\n",
    "plt.axis('equal')\n",
    "\n",
    "plt.show()\n"
   ]
  },
  {
   "cell_type": "markdown",
   "id": "29984769",
   "metadata": {},
   "source": [
    "## Question 10"
   ]
  },
  {
   "cell_type": "raw",
   "id": "e2dcafc3",
   "metadata": {},
   "source": [
    "Create a scatter plot showing the relationship between the total revenue earned by\n",
    "arcades and the number of Computer Science PhDs awarded in the U.S. between\n",
    "2000 and 2009.\n",
    "Don't forget to label your axes!\n",
    "Color each dot according to its year.\n",
    "File used - arcade-revenue-vs-cs-doctorates.csv."
   ]
  },
  {
   "cell_type": "code",
   "execution_count": 13,
   "id": "63faef0e",
   "metadata": {},
   "outputs": [
    {
     "data": {
      "image/png": "[encoded data removed]",
      "text/plain": [
       "<Figure size 640x480 with 2 Axes>"
      ]
     },
     "metadata": {},
     "output_type": "display_data"
    }
   ],
   "source": [
    "import matplotlib.pyplot as plt\n",
    "import pandas as pd\n",
    "\n",
    "data = pd.read_csv(r'arcade-revenue-vs-cs-doctorates.csv')\n",
    "\n",
    "plt.scatter(data['Total Arcade Revenue (billions)'], data['Computer Science Doctorates Awarded (US)'], c=data['Year'], cmap='coolwarm')\n",
    "\n",
    "plt.xlabel('Total Arcade Revenue (billions)')\n",
    "plt.ylabel('Computer Science Doctorates Awarded (US)')\n",
    "plt.title(\"Relationship between Arcade Revenue and CS PhDs (2000-2009)\")\n",
    "\n",
    "plt.colorbar().set_label('Year')\n",
    "\n",
    "plt.tight_layout()\n",
    "plt.show()"
   ]
  },
  {
   "cell_type": "code",
   "execution_count": null,
   "id": "8d280515",
   "metadata": {},
   "outputs": [],
   "source": []
  }
 ],
 "metadata": {
  "kernelspec": {
   "display_name": "Python 3 (ipykernel)",
   "language": "python",
   "name": "python3"
  },
  "language_info": {
   "codemirror_mode": {
    "name": "ipython",
    "version": 3
   },
   "file_extension": ".py",
   "mimetype": "text/x-python",
   "name": "python",
   "nbconvert_exporter": "python",
   "pygments_lexer": "ipython3",
   "version": "3.10.9"
  }
 },
 "nbformat": 4,
 "nbformat_minor": 5
}
